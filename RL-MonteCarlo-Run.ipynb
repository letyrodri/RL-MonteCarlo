{
 "cells": [
  {
   "cell_type": "markdown",
   "metadata": {
    "colab_type": "text",
    "id": "view-in-github"
   },
   "source": [
    "<a href=\"https://colab.research.google.com/github/letyrodridc/Inteligencia-Artificial-Curso-Inicial/blob/master/material%20docente/Dia%201/resueltos/AI_Aprendizaje_por_Refuerzos_Monte_Carlo_Blackjack.ipynb\" target=\"_parent\"><img src=\"https://colab.research.google.com/assets/colab-badge.svg\" alt=\"Open In Colab\"/></a>"
   ]
  },
  {
   "cell_type": "markdown",
   "metadata": {
    "colab_type": "text",
    "id": "GR-qLMFpr0DE"
   },
   "source": [
    "Artificial Intelligence lessons - by [Leticia Lorena Rodriguez](http://www.letyrodri.com/)"
   ]
  },
  {
   "cell_type": "markdown",
   "metadata": {
    "colab_type": "text",
    "id": "MloZWj6ZsO1_"
   },
   "source": [
    "<center>Reinforcement Learning Introduction</center>\n",
    "<center><h1>Monte Carlo Algorithm</h1></center>"
   ]
  },
  {
   "cell_type": "markdown",
   "metadata": {
    "colab_type": "text",
    "id": "z26f5Nk5qKRP"
   },
   "source": [
    "The problems that can be solved by Reinforcement Learning are given as a Markov Decision Process (MDP).\n",
    "\n",
    "\n",
    "![MDP](img/mdp.png)\n",
    "\n"
   ]
  },
  {
   "cell_type": "markdown",
   "metadata": {
    "colab_type": "text",
    "id": "tUzdw93TxUtz"
   },
   "source": [
    "## Creating an AI that plays Blackjack\n",
    "\n",
    "The famous card game \"Blackjack\"[1] can be described as an MDP problem to build artificial intelligence that plays Blackjack, winning the most of the matches.\n",
    "\n",
    "![BlackJack Board](https://upload.wikimedia.org/wikipedia/commons/thumb/4/4b/Blackjack_board.JPG/800px-Blackjack_board.JPG)\n",
    "\n",
    "[1] [Wikipedia: BlackJack](https://en.wikipedia.org/wiki/Blackjack)\n"
   ]
  },
  {
   "cell_type": "markdown",
   "metadata": {
    "colab_type": "text",
    "id": "u6dFFS0AqKU0"
   },
   "source": [
    "## Activity 1: Understanding the OpenAI environment for the Blackjack problem"
   ]
  },
  {
   "cell_type": "markdown",
   "metadata": {
    "colab_type": "text",
    "id": "9a_Os-oQUW9q"
   },
   "source": [
    "OpenAI[2] is a foundation that has the mission to assure the benefit of AI for Humanity. Its webpage describes it:\n",
    "\n",
    "\"OpenAI’s mission is to ensure that artificial general intelligence (AGI)—by which we mean highly autonomous systems that outperform humans at most economically valuable work—benefits all of humanity. We will attempt to directly build safe and beneficial AGI, but will also consider our mission fulfilled if our work aids others to achieve this outcome.\"\n",
    "\n",
    "It offers a library with different environments to be used for testing and developing AI algorithms. It has an specific environment that simulates Blackjack matches. I will explain it here, in this lab.\n"
   ]
  },
  {
   "cell_type": "markdown",
   "metadata": {
    "colab_type": "text",
    "id": "zQQKD_8nXpZR"
   },
   "source": [
    "#### ¿Which are the rules of OpenAI's Blackjack?\n",
    "\n",
    "<br>\n",
    "\n",
    "**Objective**\n",
    "\n",
    "Blackjack is an English card game where the goal is with all the hand cards to sum 21 or closer without exceeding it.\n",
    "\n",
    "\n",
    "<br>\n",
    "\n",
    "**Players**\n",
    "\n",
    "The AI (player) is going to play against the dealer.\n",
    "\n",
    "<br>\n",
    "\n",
    "**The deck**\n",
    "\n",
    "The game is implemented over an infinite deck (or with replacement).\n",
    " \n",
    "      🂡\t🂢\t🂣\t🂤\t🂥\t🂦\t🂧\t🂨\t🂩\t🂪\t🂫\t🂭\t🂮\t\n",
    "  \n",
    "      🂱\t🂲\t🂳\t🂴\t🂵\t🂶\t🂷\t🂸\t🂹\t🂺\t🂻\t🂽\t🂾\t\n",
    "      \n",
    "      🃁\t🃂\t🃃\t🃄\t🃅\t🃆\t🃇\t🃈\t🃉\t🃊\t🃋\t🃍\t🃎\t\n",
    "  \n",
    "      🃑\t🃒\t🃓\t🃔\t🃕\t🃖\t🃗\t🃘\t🃙\t🃚\t🃛\t🃝\t🃞\n",
    "      \n",
    "      🂠\n",
    "      \n",
    "\n",
    "\n",
    "<br>\n",
    "\n",
    "**Card values**\n",
    "\n",
    "The Jack, Queen, and King cards have a value of 10.  🃛\t🃝\t🃞  🂻\t🂽\t🂾  🃋\t🃍\t🃎\t🃛\t🃝\t🃞\n",
    "\n",
    "The Aces can be 11 or 1. When its value is 11, it's called \"usable\".   🂡 🂱 🃁 🃑\n",
    "\n",
    "The value of the rest of the card is the printed one. So, for example, the card 🃃 has a value of 3.\n",
    "\n",
    "<br>\n",
    "\n",
    "**Game dynamic**\n",
    "\n",
    "The game starts with two pairs of a face-up card and a face-down card—a pair for the player and the dealer. 🃒 🂠  The player goes first and turns the face-down card up. The player then can ask for an additional card  (hit=1) until he/she decides to stop (stick=0). If the sum exceeds 21, bust. After the player stick, the dealer reveals their face-down card and grab a new card until the sum is 17 or more. Suppose the dealer bust, the player wins. If the player and the dealer don't bust, the result (win-lose-draw) will depend on the one that got closer to 21.  \n",
    "\n",
    "<br>\n",
    "\n",
    "**Reward**\n",
    "\n",
    "The player's reward in case of winning is +1, 0 if there is a tie, and -1 if they lose.\n",
    "\n",
    "<br>\n",
    "\n",
    "**State Space**\n",
    "\n",
    "The state (observation) is a triplet of: the card sum of the player, if the dealer is showing an Ace, and if the player has an usuable Ace (0 or 1).\n",
    "\n",
    "<br>\n",
    "This environment corresponds to the version described in the 5.1 example of the book: \"Reinforcement Learning: An introduction\" by Sutton and Barto.\n",
    "\n",
    "<br>\n",
    "Public draft here: http://incompleteideas.net/book/the-book-2nd.html"
   ]
  },
  {
   "cell_type": "markdown",
   "metadata": {
    "colab_type": "text",
    "id": "JOAzYfq7VyFC"
   },
   "source": [
    "#### Imports the necessary packages"
   ]
  },
  {
   "cell_type": "code",
   "execution_count": 3,
   "metadata": {
    "colab": {
     "base_uri": "https://localhost:8080/",
     "height": 215
    },
    "colab_type": "code",
    "id": "wFbWyo63qJxl",
    "outputId": "8422b832-778c-4762-f790-865f7dd50a06"
   },
   "outputs": [
    {
     "name": "stdout",
     "output_type": "stream",
     "text": [
      "Collecting gym\n",
      "  Downloading gym-0.18.0.tar.gz (1.6 MB)\n",
      "\u001b[K     |████████████████████████████████| 1.6 MB 4.4 MB/s eta 0:00:01\n",
      "\u001b[?25hRequirement already satisfied: scipy in /home/lety/anaconda3/lib/python3.8/site-packages (from gym) (1.5.2)\n",
      "Requirement already satisfied: numpy>=1.10.4 in /home/lety/anaconda3/lib/python3.8/site-packages (from gym) (1.19.2)\n",
      "Collecting pyglet<=1.5.0,>=1.4.0\n",
      "  Downloading pyglet-1.5.0-py2.py3-none-any.whl (1.0 MB)\n",
      "\u001b[K     |████████████████████████████████| 1.0 MB 2.8 MB/s eta 0:00:01\n",
      "\u001b[?25hCollecting Pillow<=7.2.0\n",
      "  Downloading Pillow-7.2.0-cp38-cp38-manylinux1_x86_64.whl (2.2 MB)\n",
      "\u001b[K     |████████████████████████████████| 2.2 MB 4.7 MB/s eta 0:00:01\n",
      "\u001b[?25hRequirement already satisfied: cloudpickle<1.7.0,>=1.2.0 in /home/lety/anaconda3/lib/python3.8/site-packages (from gym) (1.6.0)\n",
      "Requirement already satisfied: future in /home/lety/anaconda3/lib/python3.8/site-packages (from pyglet<=1.5.0,>=1.4.0->gym) (0.18.2)\n",
      "Building wheels for collected packages: gym\n",
      "  Building wheel for gym (setup.py) ... \u001b[?25ldone\n",
      "\u001b[?25h  Created wheel for gym: filename=gym-0.18.0-py3-none-any.whl size=1656447 sha256=60f4a171d1b0681e23cba9da4b0007255ce299d6d6bded1a3bb17e14bdbb4a5a\n",
      "  Stored in directory: /home/lety/.cache/pip/wheels/d8/e7/68/a3f0f1b5831c9321d7523f6fd4e0d3f83f2705a1cbd5daaa79\n",
      "Successfully built gym\n",
      "Installing collected packages: pyglet, Pillow, gym\n",
      "  Attempting uninstall: Pillow\n",
      "    Found existing installation: Pillow 8.0.1\n",
      "    Uninstalling Pillow-8.0.1:\n",
      "      Successfully uninstalled Pillow-8.0.1\n",
      "Successfully installed Pillow-7.2.0 gym-0.18.0 pyglet-1.5.0\n"
     ]
    }
   ],
   "source": [
    "!pip install gym\n",
    "import gym       # OpenAI library\n",
    "import random\n",
    "from collections import deque\n",
    "import numpy as np\n",
    "\n",
    "# Automatical refresh of the notebook (needed for jupyter notebooks)\n",
    "%load_ext autoreload\n",
    "%autoreload 2"
   ]
  },
  {
   "cell_type": "markdown",
   "metadata": {
    "colab_type": "text",
    "id": "1oV8Zy-TWLkj"
   },
   "source": [
    "#### We start the Blackjack environment"
   ]
  },
  {
   "cell_type": "code",
   "execution_count": 4,
   "metadata": {
    "colab": {
     "base_uri": "https://localhost:8080/",
     "height": 35
    },
    "colab_type": "code",
    "id": "3x7wOxwMWGbk",
    "outputId": "e54cf0cc-f8e9-41ff-b9a9-0f4dc141f1ac"
   },
   "outputs": [
    {
     "data": {
      "text/plain": [
       "[0]"
      ]
     },
     "execution_count": 4,
     "metadata": {},
     "output_type": "execute_result"
    }
   ],
   "source": [
    "env = gym.make('Blackjack-v0')\n",
    "env.seed(0) # The environment needs a random seed\n"
   ]
  },
  {
   "cell_type": "markdown",
   "metadata": {
    "colab_type": "text",
    "id": "D5IWy3MgWMie"
   },
   "source": [
    "#### We observe the environment elements, in particular, the actions and the states."
   ]
  },
  {
   "cell_type": "code",
   "execution_count": 5,
   "metadata": {
    "colab": {
     "base_uri": "https://localhost:8080/",
     "height": 53
    },
    "colab_type": "code",
    "id": "LbdONCWeWGlt",
    "outputId": "f0dc885a-a840-4a22-bd4c-aad08d528279"
   },
   "outputs": [
    {
     "name": "stdout",
     "output_type": "stream",
     "text": [
      "Actions:  Discrete(2)\n",
      "States:  Tuple(Discrete(32), Discrete(11), Discrete(2))\n"
     ]
    }
   ],
   "source": [
    "action_space = env.action_space              # We get the quantity of elements of the action space\n",
    "observation_space = env.observation_space    # We get the quantity of elements of the state space\n",
    "\n",
    "## We get the quantiy of actions in an integer\n",
    "actions_len = action_space.n\n",
    "\n",
    "print(\"Actions: \", action_space)\n",
    "print(\"States: \", observation_space)"
   ]
  },
  {
   "cell_type": "markdown",
   "metadata": {
    "colab_type": "text",
    "id": "bqVDNAYlXRSG"
   },
   "source": [
    "Once we had started the environment, we can simulate a Blackjack game.\n",
    "\n",
    "A game is going to be an episode. That's means a sequence of these interations until the game ends.\n"
   ]
  },
  {
   "cell_type": "code",
   "execution_count": 7,
   "metadata": {
    "colab": {
     "base_uri": "https://localhost:8080/",
     "height": 2303
    },
    "colab_type": "code",
    "id": "Kc6YBbspXc7R",
    "outputId": "8b33d7d0-8995-488f-8202-c398c1988cde"
   },
   "outputs": [
    {
     "name": "stdout",
     "output_type": "stream",
     "text": [
      "Game ...  1\n",
      "Initial state: (12, 8, False)\n",
      "Player:  [10, 2]\n",
      "Dealer:  [8, 6]\n",
      "STICK\n",
      "Current state: (12, 8, False)\n",
      "Player:  [10, 2]\n",
      "Dealer:  [8, 6, 4]\n",
      "Reward: -1.0\n",
      "Game ...  2\n",
      "Initial state: (19, 3, False)\n",
      "Player:  [9, 10]\n",
      "Dealer:  [3, 2]\n",
      "HIT\n",
      "Current state: (23, 3, False)\n",
      "Player:  [9, 10, 4]\n",
      "Dealer:  [3, 2]\n",
      "Reward: -1.0\n",
      "Game ...  3\n",
      "Initial state: (7, 2, False)\n",
      "Player:  [3, 4]\n",
      "Dealer:  [2, 4]\n",
      "HIT\n",
      "Current state: (17, 2, False)\n",
      "Player:  [3, 4, 10]\n",
      "Dealer:  [2, 4]\n",
      "HIT\n",
      "Current state: (27, 2, False)\n",
      "Player:  [3, 4, 10, 10]\n",
      "Dealer:  [2, 4]\n",
      "Reward: -1.0\n",
      "Game ...  4\n",
      "Initial state: (15, 4, False)\n",
      "Player:  [9, 6]\n",
      "Dealer:  [4, 5]\n",
      "HIT\n",
      "Current state: (25, 4, False)\n",
      "Player:  [9, 6, 10]\n",
      "Dealer:  [4, 5]\n",
      "Reward: -1.0\n",
      "Game ...  5\n",
      "Initial state: (14, 9, False)\n",
      "Player:  [8, 6]\n",
      "Dealer:  [9, 2]\n",
      "HIT\n",
      "Current state: (18, 9, False)\n",
      "Player:  [8, 6, 4]\n",
      "Dealer:  [9, 2]\n",
      "HIT\n",
      "Current state: (28, 9, False)\n",
      "Player:  [8, 6, 4, 10]\n",
      "Dealer:  [9, 2]\n",
      "Reward: -1.0\n",
      "Game ...  6\n",
      "Initial state: (15, 10, False)\n",
      "Player:  [10, 5]\n",
      "Dealer:  [10, 10]\n",
      "HIT\n",
      "Current state: (25, 10, False)\n",
      "Player:  [10, 5, 10]\n",
      "Dealer:  [10, 10]\n",
      "Reward: -1.0\n",
      "Game ...  7\n",
      "Initial state: (14, 5, False)\n",
      "Player:  [10, 4]\n",
      "Dealer:  [5, 5]\n",
      "HIT\n",
      "Current state: (24, 5, False)\n",
      "Player:  [10, 4, 10]\n",
      "Dealer:  [5, 5]\n",
      "Reward: -1.0\n",
      "Game ...  8\n",
      "Initial state: (20, 7, False)\n",
      "Player:  [10, 10]\n",
      "Dealer:  [7, 10]\n",
      "STICK\n",
      "Current state: (20, 7, False)\n",
      "Player:  [10, 10]\n",
      "Dealer:  [7, 10]\n",
      "Reward: 1.0\n",
      "Game ...  9\n",
      "Initial state: (18, 2, False)\n",
      "Player:  [10, 8]\n",
      "Dealer:  [2, 6]\n",
      "STICK\n",
      "Current state: (18, 2, False)\n",
      "Player:  [10, 8]\n",
      "Dealer:  [2, 6, 10]\n",
      "Reward: 0.0\n",
      "Game ...  10\n",
      "Initial state: (16, 7, True)\n",
      "Player:  [1, 5]\n",
      "Dealer:  [7, 7]\n",
      "STICK\n",
      "Current state: (16, 7, True)\n",
      "Player:  [1, 5]\n",
      "Dealer:  [7, 7, 3]\n",
      "Reward: -1.0\n",
      "\n",
      "Win:  10.0 %\n",
      "\n",
      "\n",
      "Tie:  0.0 %\n",
      "\n",
      "\n",
      "Lost:  80.0 %\n",
      "\n"
     ]
    }
   ],
   "source": [
    "action_name = [\"STICK\",\"HIT\"]\n",
    "play_games = 10 # Change the games quantity\n",
    "\n",
    "rewards = list()\n",
    "\n",
    "for g in range(0, play_games):\n",
    "    print(\"Game ... \",g+1)\n",
    "    \n",
    "    #  Starts again. It resets the environment\n",
    "    initial_state = env.reset()\n",
    "    \n",
    "    print(\"Initial state:\", initial_state)\n",
    "   \n",
    "    while(True):\n",
    "        # Shows the environment. It draws it. In BlackJack, there isn't visual environment -> commented\n",
    "        #env.render()\n",
    "        print(\"Player: \",env.player)\n",
    "        print(\"Dealer: \",env.dealer)\n",
    "        # Choose an action\n",
    "        action = action_space.sample()\n",
    "        \n",
    "        print(action_name[action])\n",
    "\n",
    "        # Takes an action\n",
    "        next_state, reward, done, _ = env.step(action)\n",
    "        \n",
    "        print(\"Current state:\", next_state)\n",
    "        \n",
    "        \n",
    "        if done:\n",
    "            rewards.append(reward)\n",
    "            print(\"Player: \",env.player)\n",
    "            print(\"Dealer: \",env.dealer)\n",
    "            print(\"Reward:\", reward)\n",
    "            \n",
    "            break\n",
    "\n",
    "  \n",
    "\n",
    "print(\"\\nWin: \",np.sum([t for t in rewards if t > 0])/play_games*100,\"%\\n\")\n",
    "print(\"\\nTie: \",np.sum([t for t in rewards if t == 0])/play_games*100,\"%\\n\")\n",
    "print(\"\\nLost: \",np.sum([t*-1 for t in rewards if t < 0])/play_games*100,\"%\\n\")\n",
    "    \n",
    "    "
   ]
  },
  {
   "cell_type": "markdown",
   "metadata": {
    "colab_type": "text",
    "id": "KedyqW2HIUPb"
   },
   "source": [
    "En el código anterior, elegimos la accion de manera aleatoria (random_policy)"
   ]
  },
  {
   "cell_type": "code",
   "execution_count": 8,
   "metadata": {
    "colab": {},
    "colab_type": "code",
    "id": "EMnD5BDlITyn"
   },
   "outputs": [],
   "source": [
    "def random_policy():\n",
    "  return action_space.sample()"
   ]
  },
  {
   "cell_type": "markdown",
   "metadata": {
    "colab_type": "text",
    "id": "F12JlF2UbUth"
   },
   "source": [
    "## Activity 2: Creating an episode sequence\n",
    "\n",
    "To finally comprehend the environment, we can write a function given an environment and choose a random action. It will return the list of states, actions, and rewards of an episode:\n",
    "\n",
    "\n",
    "<center>\n",
    "  \n",
    "$s_0a_1r_1 s_1a_2r_2 s_2a_3r_3.... s_{n-1}a_nr_ns_n$\n",
    "\n",
    "\n",
    "  \n",
    "</center>\n",
    "\n",
    "Where:\n",
    "* Action: $a_i$ $\\in$ $A$ y $0 \\leq i < n$ \n",
    "* State: $s_i$ $\\in$ $S$ y $0 \\leq i < n$\n",
    "* Reward: $r_i$ $\\in$ $R$ y $0 \\leq i < n$ \n",
    "* $n$ is the simulated episode length\n",
    "\n"
   ]
  },
  {
   "cell_type": "code",
   "execution_count": 29,
   "metadata": {
    "colab": {},
    "colab_type": "code",
    "id": "EaxRjP9lbmKx"
   },
   "outputs": [],
   "source": [
    "\n",
    "def generate_episode(policy):\n",
    "  episode_list = []\n",
    "  \n",
    "  initial_state = env.reset()\n",
    "  \n",
    "  state = initial_state\n",
    "  \n",
    "  while(True):\n",
    "        # Choose an random action \n",
    "        action = action_space.sample()\n",
    "        \n",
    "        # Takes the action\n",
    "        next_state, reward, done, _ = env.step(action)\n",
    "        \n",
    "        ## Add the action, the reward, and the next state to the list\n",
    "        episode_list.append( (state, action, reward) )\n",
    "       \n",
    "        \n",
    "        state = next_state\n",
    "         \n",
    "        if done:\n",
    "            \n",
    "            break\n",
    "            \n",
    "  return episode_list           \n",
    "\n",
    "  \n",
    "  "
   ]
  },
  {
   "cell_type": "markdown",
   "metadata": {
    "colab_type": "text",
    "id": "VXb8a5QWdh_z"
   },
   "source": [
    "Testing *generate\\_episode* method "
   ]
  },
  {
   "cell_type": "code",
   "execution_count": 30,
   "metadata": {
    "colab": {
     "base_uri": "https://localhost:8080/",
     "height": 35
    },
    "colab_type": "code",
    "id": "uluIaCQTdhM-",
    "outputId": "d51f7a17-f496-41c2-b3a3-56797ce33f76"
   },
   "outputs": [
    {
     "name": "stdout",
     "output_type": "stream",
     "text": [
      "[((17, 10, True), 0, 1.0)]\n"
     ]
    }
   ],
   "source": [
    "episode_list = generate_episode(random_policy)\n",
    "\n",
    "print(episode_list)"
   ]
  },
  {
   "cell_type": "markdown",
   "metadata": {
    "colab_type": "text",
    "id": "6A-WvpZReym5"
   },
   "source": [
    "In the OpenAI's Blackjack environment, the **state** (observation) is a triplet: sum of the current player, if the dealer is showing an As or if the player has or hasn't an usable As (0 or 1)\n",
    "\n",
    "**Action** with value 0 means that STICK and with value 1, HIT (continues).\n",
    "\n",
    "**Return** with value -1 means LOSE, with value 0 a TIE, and with value 1 WINS.\n"
   ]
  },
  {
   "cell_type": "markdown",
   "metadata": {
    "colab_type": "text",
    "id": "F2_5gNCoPw0j"
   },
   "source": [
    "## Activity 3: Implementing a Q-Table"
   ]
  },
  {
   "cell_type": "markdown",
   "metadata": {
    "colab_type": "text",
    "id": "6SAu4yk6P-RN"
   },
   "source": [
    "To implement a Q-Table, we need an array with the size of the actions for each state.\n",
    "\n",
    "In this example, we are going to use a dictionary where the keys are the states and the values a numpy array of size 2. Each index of the array will save the expected return for each action: idx 0 : STICK , idx 1: HIT."
   ]
  },
  {
   "cell_type": "markdown",
   "metadata": {
    "colab_type": "text",
    "id": "4bdARy9mRn9X"
   },
   "source": [
    "#### Creating the data structure to hold the Q-Table "
   ]
  },
  {
   "cell_type": "code",
   "execution_count": 13,
   "metadata": {
    "colab": {},
    "colab_type": "code",
    "id": "wfHkDAYaIMpT"
   },
   "outputs": [],
   "source": [
    "from collections import defaultdict\n",
    "from functools import partial\n",
    "\n",
    "# We are going to use 2 as a parameter of the function np.zeros\n",
    "# We are indicating that for each key created in the dictionary, we are going to use\n",
    "# a two-values vector with value 0.\n",
    "Q = None\n",
    "\n",
    "def create_Q_Table():\n",
    "  return defaultdict(partial(np.zeros, 2))\n",
    "  \n",
    "Q = create_Q_Table()"
   ]
  },
  {
   "cell_type": "markdown",
   "metadata": {
    "colab_type": "text",
    "id": "4w22bJ75R2AH"
   },
   "source": [
    "#### For example, let generate an episode and fill the table with the returns"
   ]
  },
  {
   "cell_type": "code",
   "execution_count": 14,
   "metadata": {
    "colab": {
     "base_uri": "https://localhost:8080/",
     "height": 53
    },
    "colab_type": "code",
    "id": "D1N201SSIM0h",
    "outputId": "46762d85-921d-41c0-f558-8571b053844e"
   },
   "outputs": [
    {
     "name": "stdout",
     "output_type": "stream",
     "text": [
      "defaultdict(..., {(14, 9, False): array([-1.,  0.])}) \n",
      "\n"
     ]
    }
   ],
   "source": [
    "def add_one_game_to_Q():\n",
    "  episode_list = generate_episode(random_policy)\n",
    "\n",
    "  i = 0\n",
    "\n",
    "  while(i < len(episode_list)):\n",
    "      state = episode_list[i][0]\n",
    "      action = episode_list[i][1]\n",
    "      reward = episode_list[i][2]\n",
    "\n",
    "      Q[state][action] = Q[state][action]+reward\n",
    "      i = i+1\n",
    "\n",
    "add_one_game_to_Q()\n",
    "print(Q,\"\\n\")"
   ]
  },
  {
   "cell_type": "markdown",
   "metadata": {
    "colab_type": "text",
    "id": "A8rL-8myR-9Q"
   },
   "source": [
    "#### This is how the values are stored in the Q-Table"
   ]
  },
  {
   "cell_type": "code",
   "execution_count": 17,
   "metadata": {
    "colab": {
     "base_uri": "https://localhost:8080/",
     "height": 143
    },
    "colab_type": "code",
    "id": "uKFYkeYSRzvT",
    "outputId": "afda77d7-4ad7-49a6-c778-4c0af8839f53"
   },
   "outputs": [
    {
     "name": "stdout",
     "output_type": "stream",
     "text": [
      "The keys of the states:  [(14, 9, False)]\n",
      "---------- Q-Table ------------\n",
      "\t\t 0\t1\n",
      "-------------------------------\n",
      "(14, 9, False)\t|-1.000\t|0.000\n",
      "Note: For clarity, values are truncated to three digits.\n"
     ]
    }
   ],
   "source": [
    "def print_Q(Q):\n",
    "    \n",
    "    states = list(Q.keys())\n",
    "     \n",
    "    print(\"The keys of the states: \", states)\n",
    "    \n",
    "    actions = [str(i) for i in range(len(Q[states[0]]))]\n",
    "    \n",
    "    print(\"---------- Q-Table ------------\")\n",
    "    print(\"\\t\\t\",\"\\t\".join(actions))\n",
    "    print(\"-------------------------------\")\n",
    "    \n",
    "    for s in states:\n",
    "        values = [Q[s][int(a)] for a in actions]\n",
    "        print(f\"{s}\\t|{values[0]:.3f}\\t|{values[1]:.3f}\")\n",
    "        \n",
    "    print(\"Note: For clarity, values are truncated to three digits.\")\n",
    "                \n",
    "print_Q(Q)\n",
    "\n"
   ]
  },
  {
   "cell_type": "markdown",
   "metadata": {
    "colab_type": "text",
    "id": "KawTy4aIWBud"
   },
   "source": [
    "### Lets see the Q-Table after 10 games.\n",
    "\n",
    "Based on the table, ¿which decisions should we take for winning?"
   ]
  },
  {
   "cell_type": "code",
   "execution_count": 28,
   "metadata": {
    "colab": {
     "base_uri": "https://localhost:8080/",
     "height": 6913
    },
    "colab_type": "code",
    "id": "A2Ulpt9iWTLv",
    "outputId": "bf6a67f1-2d09-4fe9-f089-aa7f05bfb55c"
   },
   "outputs": [
    {
     "name": "stdout",
     "output_type": "stream",
     "text": [
      "The keys of the states:  [(13, 1, False), (16, 8, False), (13, 7, False), (18, 7, False), (10, 8, False), (20, 5, False), (12, 1, False), (7, 5, False), (11, 5, False), (14, 5, False), (11, 10, False), (18, 10, False), (8, 10, False), (12, 10, False), (21, 10, False)]\n",
      "---------- Q-Table ------------\n",
      "\t\t 0\t1\n",
      "-------------------------------\n",
      "(13, 1, False)\t|-1.000\t|0.000\n",
      "(16, 8, False)\t|0.000\t|-1.000\n",
      "(13, 7, False)\t|-1.000\t|0.000\n",
      "(18, 7, False)\t|0.000\t|-1.000\n",
      "(10, 8, False)\t|-1.000\t|0.000\n",
      "(20, 5, False)\t|0.000\t|0.000\n",
      "(12, 1, False)\t|-1.000\t|0.000\n",
      "(7, 5, False)\t|0.000\t|0.000\n",
      "(11, 5, False)\t|0.000\t|0.000\n",
      "(14, 5, False)\t|1.000\t|0.000\n",
      "(11, 10, False)\t|0.000\t|0.000\n",
      "(18, 10, False)\t|-1.000\t|0.000\n",
      "(8, 10, False)\t|0.000\t|0.000\n",
      "(12, 10, False)\t|0.000\t|0.000\n",
      "(21, 10, False)\t|1.000\t|0.000\n",
      "Note: For clarity, values are truncated to three digits.\n"
     ]
    }
   ],
   "source": [
    "games = 10 \n",
    "Q = create_Q_Table()\n",
    "for i in range(games):\n",
    "  add_one_game_to_Q()\n",
    "\n",
    "print_Q(Q)  "
   ]
  },
  {
   "cell_type": "markdown",
   "metadata": {
    "colab_type": "text",
    "id": "1_A4iU_tYRX8"
   },
   "source": [
    "## Activity 4: Implementing an AI for wining Blackjack\n",
    "\n",
    "Lets write an AI that using Reinforcement Learning is going to learn wich decision to take according to the hand. \n",
    "\n"
   ]
  },
  {
   "cell_type": "markdown",
   "metadata": {
    "colab_type": "text",
    "id": "hbC-Coo3SSN5"
   },
   "source": [
    "#### We are going to use an e-greedy policy in this exersice"
   ]
  },
  {
   "cell_type": "code",
   "execution_count": 19,
   "metadata": {
    "colab": {},
    "colab_type": "code",
    "id": "Z7g9XSQWGbMp"
   },
   "outputs": [],
   "source": [
    "def e_greedy(epsilon=0.5):\n",
    "    \n",
    "    # If the state is in the Q-Table -> it can use it\n",
    "    if state in Q:\n",
    "        \n",
    "        # Searches the action with the higest value in the Q-Table\n",
    "        target_action = np.argmax(Q[state])\n",
    "        \n",
    "        # It's going to assign a higher probability to the best action\n",
    "        # All the other actions will get equiprobable probability epsilon/actions_len \n",
    "        p = [0.0 for i in range(actions_len)]\n",
    "\n",
    "        # It creates p with the different probabilities for each action\n",
    "        for action in range(actions_len):\n",
    "            if action == target_action:\n",
    "                p[action] = 1.0-epsilon+(epsilon/actions_len)\n",
    "            else:\n",
    "                p[action] = (epsilon/actions_len)\n",
    "\n",
    "        # Choice function receives the probability of each action\n",
    "        return np.random.choice(actions_len, p=p)\n",
    "    else:\n",
    "        # If the state is NOT in the Q-Table\n",
    "        # It will chose randomly 1/actions_len\n",
    "        return np.random.choice(actions_len)"
   ]
  },
  {
   "cell_type": "markdown",
   "metadata": {
    "colab_type": "text",
    "id": "2bKol2BmSdb5"
   },
   "source": [
    "#### Monte Carlo algorithm"
   ]
  },
  {
   "cell_type": "markdown",
   "metadata": {
    "colab_type": "text",
    "id": "RIcKJQfCPncd"
   },
   "source": [
    "![Monte Carlo](img/first_visit.png)\n",
    "\n",
    "From Sutton & Barto, Reinforcement Learning: An Introduction book."
   ]
  },
  {
   "cell_type": "code",
   "execution_count": 21,
   "metadata": {
    "colab": {},
    "colab_type": "code",
    "id": "S7p7a1zqGbUS"
   },
   "outputs": [],
   "source": [
    "def monte_carlo_learning(env, episodes = 1000, debug=False):\n",
    "    '''\n",
    "    Generates the state-value function\n",
    "    '''\n",
    "    \n",
    "    # Let start an empty table\n",
    "    Q = defaultdict(partial(np.zeros, actions_len))\n",
    "    \n",
    "    # It creates two variables for saving the rewards sum\n",
    "    # and the quantity (our goal is to calculate the average)\n",
    "    returns = defaultdict(partial(np.zeros, actions_len))\n",
    "    returns_totals = defaultdict(partial(np.zeros, actions_len))\n",
    "    \n",
    "    # It iterates over the episodes\n",
    "    for e in range(episodes):\n",
    "      \n",
    "        # It generate a complete episode and returns the history\n",
    "        # (state, action, reward, state, action, reward... so on)\n",
    "        \n",
    "        episode_history = generate_episode(e_greedy)\n",
    "        \n",
    "        # Completes the temporal variables with the cumulated returns and\n",
    "        # the quantity of returns\n",
    "        for (state, action, reward) in episode_history:\n",
    "            returns[state][action] = returns[state][action]+reward\n",
    "            returns_totals[state][action] = returns_totals[state][action]+1\n",
    "        \n",
    "        # Calculates the average and updates the Q-Table\n",
    "        for (state, action, reward) in episode_history:\n",
    "            Q[state][action] = returns[state][action] / returns_totals[state][action]\n",
    "\n",
    "            if debug:\n",
    "                print(f\"Updates Q-Table: Q({state},{action}) = \",Q[state][action],\"\\n\") \n",
    "\n",
    "\n",
    "            if done:\n",
    "                break\n",
    "    \n",
    "    return Q\n"
   ]
  },
  {
   "cell_type": "markdown",
   "metadata": {
    "colab_type": "text",
    "id": "e0Y5LzS3S84y"
   },
   "source": [
    "#### Lets execute the algorithm for learning and completing the Q-Table"
   ]
  },
  {
   "cell_type": "code",
   "execution_count": 22,
   "metadata": {
    "colab": {},
    "colab_type": "code",
    "id": "JpY-6mlpGbZ0"
   },
   "outputs": [
    {
     "name": "stdout",
     "output_type": "stream",
     "text": [
      "Updates Q-Table: Q((15, 2, False),0) =  1.0 \n",
      "\n",
      "Updates Q-Table: Q((12, 10, False),1) =  0.0 \n",
      "\n",
      "Updates Q-Table: Q((21, 10, True),1) =  0.0 \n",
      "\n",
      "Updates Q-Table: Q((9, 8, False),0) =  -1.0 \n",
      "\n",
      "Updates Q-Table: Q((12, 7, False),0) =  1.0 \n",
      "\n",
      "Updates Q-Table: Q((16, 4, False),0) =  -1.0 \n",
      "\n",
      "Updates Q-Table: Q((9, 3, False),0) =  1.0 \n",
      "\n",
      "Updates Q-Table: Q((17, 1, False),1) =  -1.0 \n",
      "\n",
      "Updates Q-Table: Q((18, 10, False),1) =  -1.0 \n",
      "\n",
      "Updates Q-Table: Q((21, 10, True),1) =  0.0 \n",
      "\n",
      "Updates Q-Table: Q((12, 5, False),1) =  0.0 \n",
      "\n",
      "Updates Q-Table: Q((21, 1, True),1) =  0.0 \n",
      "\n",
      "Updates Q-Table: Q((12, 10, False),1) =  0.0 \n",
      "\n",
      "Updates Q-Table: Q((15, 9, True),0) =  -1.0 \n",
      "\n",
      "Updates Q-Table: Q((20, 7, False),1) =  -1.0 \n",
      "\n",
      "Updates Q-Table: Q((15, 7, False),1) =  0.0 \n",
      "\n",
      "Updates Q-Table: Q((18, 1, False),1) =  -1.0 \n",
      "\n",
      "Updates Q-Table: Q((16, 4, True),1) =  0.0 \n",
      "\n",
      "Updates Q-Table: Q((19, 10, True),1) =  0.0 \n",
      "\n",
      "Updates Q-Table: Q((12, 2, False),0) =  -1.0 \n",
      "\n",
      "Updates Q-Table: Q((12, 10, False),0) =  -1.0 \n",
      "\n",
      "Updates Q-Table: Q((16, 6, True),1) =  0.0 \n",
      "\n",
      "Updates Q-Table: Q((14, 10, False),0) =  -1.0 \n",
      "\n",
      "Updates Q-Table: Q((17, 4, False),1) =  0.0 \n",
      "\n",
      "Updates Q-Table: Q((14, 10, False),1) =  -1.0 \n",
      "\n",
      "Updates Q-Table: Q((12, 2, False),1) =  0.0 \n",
      "\n",
      "Updates Q-Table: Q((21, 6, True),1) =  0.0 \n",
      "\n",
      "Updates Q-Table: Q((13, 10, False),1) =  -1.0 \n",
      "\n",
      "Updates Q-Table: Q((9, 5, False),1) =  0.0 \n",
      "\n",
      "Updates Q-Table: Q((16, 8, False),0) =  -1.0 \n",
      "\n",
      "Updates Q-Table: Q((13, 10, False),0) =  1.0 \n",
      "\n",
      "Updates Q-Table: Q((18, 10, False),0) =  0.0 \n",
      "\n",
      "Updates Q-Table: Q((20, 4, False),0) =  1.0 \n",
      "\n",
      "Updates Q-Table: Q((20, 6, False),0) =  1.0 \n",
      "\n",
      "Updates Q-Table: Q((21, 8, True),1) =  0.0 \n",
      "\n",
      "Updates Q-Table: Q((6, 8, False),0) =  -1.0 \n",
      "\n",
      "Updates Q-Table: Q((14, 1, False),1) =  -1.0 \n",
      "\n",
      "Updates Q-Table: Q((20, 10, False),1) =  -1.0 \n",
      "\n",
      "Updates Q-Table: Q((15, 2, False),1) =  0.0 \n",
      "\n",
      "Updates Q-Table: Q((19, 6, True),0) =  1.0 \n",
      "\n",
      "Updates Q-Table: Q((17, 2, False),1) =  -1.0 \n",
      "\n",
      "Updates Q-Table: Q((17, 10, False),0) =  -1.0 \n",
      "\n",
      "Updates Q-Table: Q((19, 4, False),0) =  1.0 \n",
      "\n",
      "Updates Q-Table: Q((16, 10, False),1) =  -1.0 \n",
      "\n",
      "Updates Q-Table: Q((14, 1, False),0) =  -1.0 \n",
      "\n",
      "Updates Q-Table: Q((12, 8, False),0) =  -1.0 \n",
      "\n",
      "Updates Q-Table: Q((18, 4, False),1) =  -1.0 \n",
      "\n",
      "Updates Q-Table: Q((6, 10, False),0) =  -1.0 \n",
      "\n",
      "Updates Q-Table: Q((20, 3, False),1) =  -1.0 \n",
      "\n",
      "Updates Q-Table: Q((12, 2, False),0) =  -1.0 \n",
      "\n",
      "Updates Q-Table: Q((12, 9, False),1) =  0.0 \n",
      "\n",
      "Updates Q-Table: Q((5, 6, False),0) =  1.0 \n",
      "\n",
      "Updates Q-Table: Q((20, 10, True),1) =  0.0 \n",
      "\n",
      "Updates Q-Table: Q((18, 10, False),1) =  -1.0 \n",
      "\n",
      "Updates Q-Table: Q((18, 3, False),0) =  1.0 \n",
      "\n",
      "Updates Q-Table: Q((12, 10, False),0) =  -1.0 \n",
      "\n",
      "Updates Q-Table: Q((20, 5, False),1) =  -1.0 \n",
      "\n",
      "Updates Q-Table: Q((17, 10, False),1) =  -1.0 \n",
      "\n",
      "Updates Q-Table: Q((13, 9, True),1) =  0.0 \n",
      "\n",
      "Updates Q-Table: Q((7, 3, False),1) =  0.0 \n",
      "\n",
      "Updates Q-Table: Q((10, 8, False),0) =  1.0 \n",
      "\n",
      "Updates Q-Table: Q((16, 3, True),0) =  -1.0 \n",
      "\n",
      "Updates Q-Table: Q((12, 2, True),0) =  1.0 \n",
      "\n",
      "Updates Q-Table: Q((14, 5, False),1) =  -1.0 \n",
      "\n",
      "Updates Q-Table: Q((15, 10, False),0) =  -1.0 \n",
      "\n",
      "Updates Q-Table: Q((10, 3, False),0) =  1.0 \n",
      "\n",
      "Updates Q-Table: Q((20, 5, False),0) =  -1.0 \n",
      "\n",
      "Updates Q-Table: Q((16, 9, False),1) =  0.0 \n",
      "\n",
      "Updates Q-Table: Q((13, 6, False),1) =  -1.0 \n",
      "\n",
      "Updates Q-Table: Q((17, 5, False),0) =  -1.0 \n",
      "\n",
      "Updates Q-Table: Q((18, 10, False),1) =  -1.0 \n",
      "\n",
      "Updates Q-Table: Q((19, 2, True),0) =  1.0 \n",
      "\n",
      "Updates Q-Table: Q((12, 8, False),1) =  -1.0 \n",
      "\n",
      "Updates Q-Table: Q((19, 6, False),1) =  -1.0 \n",
      "\n",
      "Updates Q-Table: Q((6, 10, False),0) =  -1.0 \n",
      "\n",
      "Updates Q-Table: Q((4, 1, False),0) =  -1.0 \n",
      "\n",
      "Updates Q-Table: Q((13, 10, False),1) =  -0.5 \n",
      "\n",
      "Updates Q-Table: Q((18, 5, True),0) =  1.0 \n",
      "\n",
      "Updates Q-Table: Q((5, 7, False),0) =  1.0 \n",
      "\n",
      "Updates Q-Table: Q((13, 10, True),1) =  0.0 \n",
      "\n",
      "Updates Q-Table: Q((20, 4, False),0) =  0.5 \n",
      "\n",
      "Updates Q-Table: Q((20, 7, False),0) =  0.0 \n",
      "\n",
      "Updates Q-Table: Q((17, 7, False),1) =  -1.0 \n",
      "\n",
      "Updates Q-Table: Q((16, 10, False),1) =  -0.5 \n",
      "\n",
      "Updates Q-Table: Q((14, 5, True),1) =  0.0 \n",
      "\n",
      "Updates Q-Table: Q((13, 1, False),0) =  1.0 \n",
      "\n",
      "Updates Q-Table: Q((21, 4, True),0) =  1.0 \n",
      "\n",
      "Updates Q-Table: Q((18, 6, False),1) =  -1.0 \n",
      "\n",
      "Updates Q-Table: Q((14, 7, False),0) =  1.0 \n",
      "\n",
      "Updates Q-Table: Q((19, 10, False),1) =  -1.0 \n",
      "\n",
      "Updates Q-Table: Q((15, 8, False),1) =  0.0 \n",
      "\n",
      "Updates Q-Table: Q((12, 10, False),1) =  0.0 \n",
      "\n",
      "Updates Q-Table: Q((21, 8, True),1) =  0.0 \n",
      "\n",
      "Updates Q-Table: Q((18, 10, True),1) =  0.0 \n",
      "\n",
      "Updates Q-Table: Q((16, 9, False),0) =  1.0 \n",
      "\n",
      "Updates Q-Table: Q((16, 2, True),1) =  0.0 \n",
      "\n",
      "Updates Q-Table: Q((12, 1, False),1) =  -1.0 \n",
      "\n",
      "Updates Q-Table: Q((10, 10, False),0) =  1.0 \n",
      "\n",
      "Updates Q-Table: Q((11, 5, False),1) =  0.0 \n",
      "\n",
      "Updates Q-Table: Q((17, 3, False),1) =  -1.0 \n",
      "\n"
     ]
    }
   ],
   "source": [
    "episodes = 100 \n",
    "\n",
    "Q = monte_carlo_learning(env,  episodes,  debug=True)\n",
    "\n"
   ]
  },
  {
   "cell_type": "markdown",
   "metadata": {
    "colab_type": "text",
    "id": "2Hd902SIeD_D"
   },
   "source": [
    "#### Lets see the Q-Table learned"
   ]
  },
  {
   "cell_type": "code",
   "execution_count": 23,
   "metadata": {
    "colab": {
     "base_uri": "https://localhost:8080/",
     "height": 4987
    },
    "colab_type": "code",
    "id": "Fp-rybabeBmN",
    "outputId": "aba9d1ca-0cf1-4720-943b-860c8ded6d61"
   },
   "outputs": [
    {
     "name": "stdout",
     "output_type": "stream",
     "text": [
      "The keys of the states:  [(15, 2, False), (12, 10, False), (21, 10, True), (9, 8, False), (12, 7, False), (16, 4, False), (9, 3, False), (17, 1, False), (18, 10, False), (12, 5, False), (21, 1, True), (15, 9, True), (20, 7, False), (15, 7, False), (18, 1, False), (16, 4, True), (19, 10, True), (12, 2, False), (16, 6, True), (14, 10, False), (17, 4, False), (21, 6, True), (13, 10, False), (9, 5, False), (16, 8, False), (20, 4, False), (20, 6, False), (21, 8, True), (6, 8, False), (14, 1, False), (20, 10, False), (19, 6, True), (17, 2, False), (17, 10, False), (19, 4, False), (16, 10, False), (12, 8, False), (18, 4, False), (6, 10, False), (20, 3, False), (12, 9, False), (5, 6, False), (20, 10, True), (18, 3, False), (20, 5, False), (13, 9, True), (7, 3, False), (10, 8, False), (16, 3, True), (12, 2, True), (14, 5, False), (15, 10, False), (10, 3, False), (16, 9, False), (13, 6, False), (17, 5, False), (19, 2, True), (19, 6, False), (4, 1, False), (18, 5, True), (5, 7, False), (13, 10, True), (17, 7, False), (14, 5, True), (13, 1, False), (21, 4, True), (18, 6, False), (14, 7, False), (19, 10, False), (15, 8, False), (18, 10, True), (16, 2, True), (12, 1, False), (10, 10, False), (11, 5, False), (17, 3, False)]\n",
      "---------- Q-Table ------------\n",
      "\t\t 0\t1\n",
      "-------------------------------\n",
      "(15, 2, False)\t|1.000\t|0.000\n",
      "(12, 10, False)\t|-1.000\t|0.000\n",
      "(21, 10, True)\t|0.000\t|0.000\n",
      "(9, 8, False)\t|-1.000\t|0.000\n",
      "(12, 7, False)\t|1.000\t|0.000\n",
      "(16, 4, False)\t|-1.000\t|0.000\n",
      "(9, 3, False)\t|1.000\t|0.000\n",
      "(17, 1, False)\t|0.000\t|-1.000\n",
      "(18, 10, False)\t|0.000\t|-1.000\n",
      "(12, 5, False)\t|0.000\t|0.000\n",
      "(21, 1, True)\t|0.000\t|0.000\n",
      "(15, 9, True)\t|-1.000\t|0.000\n",
      "(20, 7, False)\t|0.000\t|-1.000\n",
      "(15, 7, False)\t|0.000\t|0.000\n",
      "(18, 1, False)\t|0.000\t|-1.000\n",
      "(16, 4, True)\t|0.000\t|0.000\n",
      "(19, 10, True)\t|0.000\t|0.000\n",
      "(12, 2, False)\t|-1.000\t|0.000\n",
      "(16, 6, True)\t|0.000\t|0.000\n",
      "(14, 10, False)\t|-1.000\t|-1.000\n",
      "(17, 4, False)\t|0.000\t|0.000\n",
      "(21, 6, True)\t|0.000\t|0.000\n",
      "(13, 10, False)\t|1.000\t|-0.500\n",
      "(9, 5, False)\t|0.000\t|0.000\n",
      "(16, 8, False)\t|-1.000\t|0.000\n",
      "(20, 4, False)\t|0.500\t|0.000\n",
      "(20, 6, False)\t|1.000\t|0.000\n",
      "(21, 8, True)\t|0.000\t|0.000\n",
      "(6, 8, False)\t|-1.000\t|0.000\n",
      "(14, 1, False)\t|-1.000\t|-1.000\n",
      "(20, 10, False)\t|0.000\t|-1.000\n",
      "(19, 6, True)\t|1.000\t|0.000\n",
      "(17, 2, False)\t|0.000\t|-1.000\n",
      "(17, 10, False)\t|-1.000\t|-1.000\n",
      "(19, 4, False)\t|1.000\t|0.000\n",
      "(16, 10, False)\t|0.000\t|-0.500\n",
      "(12, 8, False)\t|-1.000\t|-1.000\n",
      "(18, 4, False)\t|0.000\t|-1.000\n",
      "(6, 10, False)\t|-1.000\t|0.000\n",
      "(20, 3, False)\t|0.000\t|-1.000\n",
      "(12, 9, False)\t|0.000\t|0.000\n",
      "(5, 6, False)\t|1.000\t|0.000\n",
      "(20, 10, True)\t|0.000\t|0.000\n",
      "(18, 3, False)\t|1.000\t|0.000\n",
      "(20, 5, False)\t|-1.000\t|-1.000\n",
      "(13, 9, True)\t|0.000\t|0.000\n",
      "(7, 3, False)\t|0.000\t|0.000\n",
      "(10, 8, False)\t|1.000\t|0.000\n",
      "(16, 3, True)\t|-1.000\t|0.000\n",
      "(12, 2, True)\t|1.000\t|0.000\n",
      "(14, 5, False)\t|0.000\t|-1.000\n",
      "(15, 10, False)\t|-1.000\t|0.000\n",
      "(10, 3, False)\t|1.000\t|0.000\n",
      "(16, 9, False)\t|1.000\t|0.000\n",
      "(13, 6, False)\t|0.000\t|-1.000\n",
      "(17, 5, False)\t|-1.000\t|0.000\n",
      "(19, 2, True)\t|1.000\t|0.000\n",
      "(19, 6, False)\t|0.000\t|-1.000\n",
      "(4, 1, False)\t|-1.000\t|0.000\n",
      "(18, 5, True)\t|1.000\t|0.000\n",
      "(5, 7, False)\t|1.000\t|0.000\n",
      "(13, 10, True)\t|0.000\t|0.000\n",
      "(17, 7, False)\t|0.000\t|-1.000\n",
      "(14, 5, True)\t|0.000\t|0.000\n",
      "(13, 1, False)\t|1.000\t|0.000\n",
      "(21, 4, True)\t|1.000\t|0.000\n",
      "(18, 6, False)\t|0.000\t|-1.000\n",
      "(14, 7, False)\t|1.000\t|0.000\n",
      "(19, 10, False)\t|0.000\t|-1.000\n",
      "(15, 8, False)\t|0.000\t|0.000\n",
      "(18, 10, True)\t|0.000\t|0.000\n",
      "(16, 2, True)\t|0.000\t|0.000\n",
      "(12, 1, False)\t|0.000\t|-1.000\n",
      "(10, 10, False)\t|1.000\t|0.000\n",
      "(11, 5, False)\t|0.000\t|0.000\n",
      "(17, 3, False)\t|0.000\t|-1.000\n",
      "Note: For clarity, values are truncated to three digits.\n"
     ]
    }
   ],
   "source": [
    "print_Q(Q) "
   ]
  },
  {
   "cell_type": "markdown",
   "metadata": {
    "colab_type": "text",
    "id": "CcAXZ5HWTFd7"
   },
   "source": [
    "#### We test it playing some games"
   ]
  },
  {
   "cell_type": "code",
   "execution_count": 27,
   "metadata": {
    "colab": {
     "base_uri": "https://localhost:8080/",
     "height": 179
    },
    "colab_type": "code",
    "id": "8miTCFteGbc5",
    "outputId": "6f66813b-fc48-4188-a36a-8203980b62e0"
   },
   "outputs": [
    {
     "name": "stdout",
     "output_type": "stream",
     "text": [
      "Initial State: (8, 4, False)\n",
      "Player gets: 8 without As usable, Dealer gets: 4 \n",
      "Chose an action: 0 - STICK\n",
      "End of the game\n",
      "The player TIE\n"
     ]
    }
   ],
   "source": [
    "# It starts over, reset the environment\n",
    "state = env.reset()\n",
    "    \n",
    "print(\"Initial State:\", state)\n",
    "\n",
    "withUsableAs = \"with As usable\" if state[2] else \"without As usable\"\n",
    "print(f\"Player gets: {state[0]} {withUsableAs}, Dealer gets: {state[1]} \")\n",
    "   \n",
    "\n",
    "while(True):\n",
    "    \n",
    "  \n",
    "    # Choose an action, the ones with the maximun reward in the Q-Table ~ 1 line\n",
    "    action = np.argmax(Q[state])\n",
    "        \n",
    "    # Takes an action\n",
    "    next_state, reward, done, _ = env.step(action)\n",
    "    \n",
    "    print(f\"Chose an action: {action} - {action_name[action]}\")\n",
    "        \n",
    "    state = next_state\n",
    "    \n",
    "    if action:\n",
    "      withUsableAs = \"with As usable\" if state[2] else \"without As usable\"\n",
    "      print(f\"Player gets: {state[0]} {withUsableAs}\")\n",
    "    \n",
    "    if done:\n",
    "        result = \"WIN\" if reward > 0 else (\"LOSE\" if reward == 0 else \"TIE\")\n",
    "        print(\"End of the game\")\n",
    "        print(f\"The player {result}\")\n",
    "        break\n"
   ]
  },
  {
   "cell_type": "markdown",
   "metadata": {
    "colab_type": "text",
    "id": "ILLyCK5mTPyw"
   },
   "source": [
    " #### Lets see how good is the algorithm"
   ]
  },
  {
   "cell_type": "code",
   "execution_count": 26,
   "metadata": {
    "colab": {
     "base_uri": "https://localhost:8080/",
     "height": 1035
    },
    "colab_type": "code",
    "id": "JaSyzPbfGbfg",
    "outputId": "0ffccc5c-9ede-458c-8bbe-a11e242fa7b7"
   },
   "outputs": [
    {
     "data": {
      "image/png": "[encoded data removed]",
      "text/plain": [
       "<Figure size 504x504 with 2 Axes>"
      ]
     },
     "metadata": {
      "needs_background": "light"
     },
     "output_type": "display_data"
    },
    {
     "data": {
      "image/png": "[encoded data removed]",
      "text/plain": [
       "<Figure size 504x504 with 2 Axes>"
      ]
     },
     "metadata": {},
     "output_type": "display_data"
    }
   ],
   "source": [
    "import matplotlib\n",
    "import matplotlib.pyplot as plt\n",
    "import numpy as np\n",
    "from matplotlib.colors import ListedColormap\n",
    "\n",
    "def _get_policy_array(Q, usable_ace):\n",
    "    \n",
    "    data = np.zeros( (22,10) )\n",
    "            \n",
    "    for q in Q:\n",
    "\n",
    "        target_action = np.argmax(Q[q])\n",
    "\n",
    "        if q[0] in range(1,22) and q[2] == usable_ace:\n",
    "            data[q[0]][q[1]-1] = target_action+1\n",
    "        \n",
    "    return data\n",
    "\n",
    "def _plot_policy_array(policy_arr, title):\n",
    "    cMap = ListedColormap(['lightgray',  'red', 'green'])\n",
    "    fig, ax = plt.subplots(figsize=(7, 7))\n",
    "    im = ax.imshow(policy_arr,  cmap=cMap)\n",
    "    plt.style.use('ggplot')\n",
    "    \n",
    "    ax.set_xticks(np.arange(10)-0.5)\n",
    "    ax.set_yticks(np.arange(22)-0.5)\n",
    "    \n",
    "    ax.set_xticklabels(np.arange(10)+1)\n",
    "    ax.set_yticklabels(np.arange(22))\n",
    "    ax.set_xlabel(\"Dealer card\")\n",
    "    ax.set_ylabel(\"Player sum\")\n",
    "    \n",
    "    ax.grid(which=\"minor\", color=\"w\", linestyle='-', linewidth=3)\n",
    "    fig.tight_layout()\n",
    "    plt.title(title)\n",
    "    \n",
    "    cbar = plt.colorbar(im,pad=0.1)\n",
    "    cbar.ax.get_yaxis().set_ticks([])\n",
    "    for j, lab in enumerate(['UNDEFINED','STICK','HIT']):\n",
    "        cbar.ax.text(5, (5 * j + 1) / 6.0, lab, ha='left', va='top')\n",
    "    cbar.ax.get_yaxis().labelpad = -30\n",
    "    cbar.ax.set_ylabel('Action', rotation=270)\n",
    "\n",
    "\n",
    "    plt.show()\n",
    "    \n",
    "    \n",
    "\n",
    "def Q_plot(Q, usable_ace):\n",
    "    title = \"Using the Ace as 11\" if usable_ace else \"Not using the Ace as 11\"\n",
    "    policy_arr = _get_policy_array(Q,usable_ace)\n",
    "    _plot_policy_array(policy_arr, title)  \n",
    "    \n",
    "%matplotlib inline\n",
    "        \n",
    "Q_plot(Q,True)\n",
    "\n",
    "Q_plot(Q,False)"
   ]
  },
  {
   "cell_type": "code",
   "execution_count": 0,
   "metadata": {
    "colab": {},
    "colab_type": "code",
    "id": "BugjqQMLl76c"
   },
   "outputs": [],
   "source": []
  }
 ],
 "metadata": {
  "colab": {
   "collapsed_sections": [],
   "include_colab_link": true,
   "name": "AI - Aprendizaje por Refuerzos - Monte Carlo - Blackjack.ipynb",
   "provenance": [],
   "version": "0.3.2"
  },
  "kernelspec": {
   "display_name": "Python 3",
   "language": "python",
   "name": "python3"
  },
  "language_info": {
   "codemirror_mode": {
    "name": "ipython",
    "version": 3
   },
   "file_extension": ".py",
   "mimetype": "text/x-python",
   "name": "python",
   "nbconvert_exporter": "python",
   "pygments_lexer": "ipython3",
   "version": "3.8.5"
  }
 },
 "nbformat": 4,
 "nbformat_minor": 1
}
