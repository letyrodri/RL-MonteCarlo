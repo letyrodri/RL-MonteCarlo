{
 "cells": [
  {
   "cell_type": "markdown",
   "metadata": {
    "colab_type": "text",
    "id": "view-in-github"
   },
   "source": [
    "<a href=\"https://colab.research.google.com/github/letyrodridc/Inteligencia-Artificial-Curso-Inicial/blob/master/material%20docente/Dia%201/resueltos/AI_Aprendizaje_por_Refuerzos_Monte_Carlo_Blackjack.ipynb\" target=\"_parent\"><img src=\"https://colab.research.google.com/assets/colab-badge.svg\" alt=\"Open In Colab\"/></a>"
   ]
  },
  {
   "cell_type": "markdown",
   "metadata": {
    "colab_type": "text",
    "id": "GR-qLMFpr0DE"
   },
   "source": [
    "Artificial Intelligence lessons - by [Leticia Lorena Rodriguez](http://www.letyrodri.com/)"
   ]
  },
  {
   "cell_type": "markdown",
   "metadata": {
    "colab_type": "text",
    "id": "MloZWj6ZsO1_"
   },
   "source": [
    "<center>Reinforcement Learning Introduction</center>\n",
    "<center><h1>Monte Carlo Algorithm</h1></center>"
   ]
  },
  {
   "cell_type": "markdown",
   "metadata": {
    "colab_type": "text",
    "id": "z26f5Nk5qKRP"
   },
   "source": [
    "The problems that can be solved by Reinforcement Learning are given as a Markov Decision Process (MDP).\n",
    "\n",
    "![MDP](http://letyrodri.com/img/cursoAI/mdp4.png)\n",
    "\n"
   ]
  },
  {
   "cell_type": "markdown",
   "metadata": {
    "colab_type": "text",
    "id": "tUzdw93TxUtz"
   },
   "source": [
    "## Creating an AI that plays Blackjack\n",
    "\n",
    "The famous card game \"Blackjack\"[1] can be descriptive as a MDP problem so we can build an artificial intelligence that plays Blackjack winning the most of the matches.\n",
    "\n",
    "![BlackJack Board](https://upload.wikimedia.org/wikipedia/commons/thumb/4/4b/Blackjack_board.JPG/800px-Blackjack_board.JPG)\n",
    "\n",
    "[1] [Wikipedia: BlackJack](https://en.wikipedia.org/wiki/Blackjack)\n"
   ]
  },
  {
   "cell_type": "markdown",
   "metadata": {
    "colab_type": "text",
    "id": "u6dFFS0AqKU0"
   },
   "source": [
    "## Activity 1: Understanding the OpenAI environment for the Cliff-Walking problem"
   ]
  },
  {
   "cell_type": "markdown",
   "metadata": {
    "colab_type": "text",
    "id": "9a_Os-oQUW9q"
   },
   "source": [
    "OpenAI[2] is a foundation that has the mission to assurance the benefit of AI for the Humanity. Its webpage describe it:\n",
    "\n",
    "\"OpenAI’s mission is to ensure that artificial general intelligence (AGI)—by which we mean highly autonomous systems that outperform humans at most economically valuable work—benefits all of humanity. We will attempt to directly build safe and beneficial AGI, but will also consider our mission fulfilled if our work aids others to achieve this outcome.\"\n",
    "\n",
    "It offers a library with different environment to be used for testing and developing AI algorithms. It has an specific environment that simulates Blackjack matches. I will explain it here, in this lab.\n"
   ]
  },
  {
   "cell_type": "markdown",
   "metadata": {
    "colab_type": "text",
    "id": "zQQKD_8nXpZR"
   },
   "source": [
    "#### ¿Which are the rules of OpenAI's Blackjack?\n",
    "\n",
    "<br>\n",
    "\n",
    "**Objetive**\n",
    "\n",
    "Blackjack is an English card games where the goal is with all the hand cards to sum 21 or closer without exceeding it.\n",
    "\n",
    "\n",
    "<br>\n",
    "\n",
    "**Players**\n",
    "\n",
    "The AI (player) is going to play against the dealer.\n",
    "\n",
    "<br>\n",
    "\n",
    "**The deck**\n",
    "\n",
    "The game is implemented over an infinite deck (or with replacement).\n",
    " \n",
    "      🂡\t🂢\t🂣\t🂤\t🂥\t🂦\t🂧\t🂨\t🂩\t🂪\t🂫\t🂭\t🂮\t\n",
    "  \n",
    "      🂱\t🂲\t🂳\t🂴\t🂵\t🂶\t🂷\t🂸\t🂹\t🂺\t🂻\t🂽\t🂾\t\n",
    "      \n",
    "      🃁\t🃂\t🃃\t🃄\t🃅\t🃆\t🃇\t🃈\t🃉\t🃊\t🃋\t🃍\t🃎\t\n",
    "  \n",
    "      🃑\t🃒\t🃓\t🃔\t🃕\t🃖\t🃗\t🃘\t🃙\t🃚\t🃛\t🃝\t🃞\n",
    "      \n",
    "      🂠\n",
    "      \n",
    "\n",
    "\n",
    "<br>\n",
    "\n",
    "**Card values**\n",
    "\n",
    "The Jack, Queen, and King cards have a value of 10.  🃛\t🃝\t🃞  🂻\t🂽\t🂾  🃋\t🃍\t🃎\t🃛\t🃝\t🃞\n",
    "\n",
    "The Aces can be 11 or 1. When its value is 11, it's called \"usable\".   🂡 🂱 🃁 🃑\n",
    "\n",
    "The value of the rest of the card is the printed one. So for example, the card 🃃 has the value of 3.\n",
    "\n",
    "<br>\n",
    "\n",
    "**Game dynamic**\n",
    "\n",
    "The game starts with two pairs of a face-up card and a face-down card. One pair for each, the player and the dealer. 🃒 🂠  The player goes first and turns the face-down card up. The player then can ask for an additional card  (sigue=hit=1) until he/she decides to stop (se planta=stick=0). If the sum exceeds 21, bust. After the player stick, the dealer revels his/her face-down card and grab a new card until the sum is 17 or more. If the dealer bust, the player wins. If the player and the dealer don't bust, the result (win lose draw) will depend on the one that got closer to 21.  \n",
    "\n",
    "<br>\n",
    "\n",
    "**Return**\n",
    "\n",
    "The return for the player in case of winning is +1, 0 if there is a tie, and -1 if he/she lose.\n",
    "\n",
    "<br>\n",
    "\n",
    "**State Space**\n",
    "\n",
    "The state (observation) is a triplet of: the card sum of the player, if the dealer is showing an As, and if the player has an usuable as (0 or 1).\n",
    "\n",
    "<br>\n",
    "This environment corresponds to the version described in the 5.1 example of the book: \"Reinforcement Learning: An introduction\" by Sutton and Barto.\n",
    "\n",
    "<br>\n",
    "Public draft here: http://incompleteideas.net/book/the-book-2nd.html"
   ]
  },
  {
   "cell_type": "markdown",
   "metadata": {
    "colab_type": "text",
    "id": "JOAzYfq7VyFC"
   },
   "source": [
    "#### Imports the necessary packages"
   ]
  },
  {
   "cell_type": "code",
   "execution_count": 1,
   "metadata": {
    "colab": {
     "base_uri": "https://localhost:8080/",
     "height": 215
    },
    "colab_type": "code",
    "id": "wFbWyo63qJxl",
    "outputId": "8422b832-778c-4762-f790-865f7dd50a06"
   },
   "outputs": [
    {
     "name": "stdout",
     "output_type": "stream",
     "text": [
      "Requirement already satisfied: gym in /usr/local/lib/python3.6/dist-packages (0.10.11)\n",
      "Requirement already satisfied: scipy in /usr/local/lib/python3.6/dist-packages (from gym) (1.2.1)\n",
      "Requirement already satisfied: pyglet>=1.2.0 in /usr/local/lib/python3.6/dist-packages (from gym) (1.3.2)\n",
      "Requirement already satisfied: numpy>=1.10.4 in /usr/local/lib/python3.6/dist-packages (from gym) (1.16.3)\n",
      "Requirement already satisfied: requests>=2.0 in /usr/local/lib/python3.6/dist-packages (from gym) (2.21.0)\n",
      "Requirement already satisfied: six in /usr/local/lib/python3.6/dist-packages (from gym) (1.12.0)\n",
      "Requirement already satisfied: future in /usr/local/lib/python3.6/dist-packages (from pyglet>=1.2.0->gym) (0.16.0)\n",
      "Requirement already satisfied: urllib3<1.25,>=1.21.1 in /usr/local/lib/python3.6/dist-packages (from requests>=2.0->gym) (1.24.2)\n",
      "Requirement already satisfied: chardet<3.1.0,>=3.0.2 in /usr/local/lib/python3.6/dist-packages (from requests>=2.0->gym) (3.0.4)\n",
      "Requirement already satisfied: idna<2.9,>=2.5 in /usr/local/lib/python3.6/dist-packages (from requests>=2.0->gym) (2.8)\n",
      "Requirement already satisfied: certifi>=2017.4.17 in /usr/local/lib/python3.6/dist-packages (from requests>=2.0->gym) (2019.3.9)\n"
     ]
    }
   ],
   "source": [
    "!pip install gym\n",
    "import gym       # Librería OpenAI \n",
    "import random\n",
    "from collections import deque\n",
    "import numpy as np\n",
    "\n",
    "# Refresco automático de la notebook (para jupyter notebooks)\n",
    "%load_ext autoreload\n",
    "%autoreload 2"
   ]
  },
  {
   "cell_type": "markdown",
   "metadata": {
    "colab_type": "text",
    "id": "1oV8Zy-TWLkj"
   },
   "source": [
    "#### Iniciamos el entorno del Blackjack"
   ]
  },
  {
   "cell_type": "code",
   "execution_count": 2,
   "metadata": {
    "colab": {
     "base_uri": "https://localhost:8080/",
     "height": 35
    },
    "colab_type": "code",
    "id": "3x7wOxwMWGbk",
    "outputId": "e54cf0cc-f8e9-41ff-b9a9-0f4dc141f1ac"
   },
   "outputs": [
    {
     "data": {
      "text/plain": [
       "[0]"
      ]
     },
     "execution_count": 2,
     "metadata": {
      "tags": []
     },
     "output_type": "execute_result"
    }
   ],
   "source": [
    "env = gym.make('Blackjack-v0')\n",
    "env.seed(0) # El entorno precisa definir una semilla para la aleatoriedad\n"
   ]
  },
  {
   "cell_type": "markdown",
   "metadata": {
    "colab_type": "text",
    "id": "D5IWy3MgWMie"
   },
   "source": [
    "#### Observamos los elementos del entorno, es particular las acciones y los estados posibles"
   ]
  },
  {
   "cell_type": "code",
   "execution_count": 3,
   "metadata": {
    "colab": {
     "base_uri": "https://localhost:8080/",
     "height": 53
    },
    "colab_type": "code",
    "id": "LbdONCWeWGlt",
    "outputId": "f0dc885a-a840-4a22-bd4c-aad08d528279"
   },
   "outputs": [
    {
     "name": "stdout",
     "output_type": "stream",
     "text": [
      "Acciones:  Discrete(2)\n",
      "Estados:  Tuple(Discrete(32), Discrete(11), Discrete(2))\n"
     ]
    }
   ],
   "source": [
    "action_space = env.action_space              # Obtenemos la cantidad de elementos del espacio de acciones (action space)\n",
    "observation_space = env.observation_space    # Obtenemos la cantidad de elementos del espacio de estados (state space)\n",
    "\n",
    "## Obtengo la cantidad de acciones en un entero tipo int\n",
    "actions_len = action_space.n\n",
    "\n",
    "print(\"Acciones: \", action_space)\n",
    "print(\"Estados: \", observation_space)"
   ]
  },
  {
   "cell_type": "markdown",
   "metadata": {
    "colab_type": "text",
    "id": "bqVDNAYlXRSG"
   },
   "source": [
    "Una vez que hemos iniciado el entorno podemos simular una partida de Blackjack.\n",
    "\n",
    "Una partida en MDP va a ser un episodio, es decir, una secuencia de "
   ]
  },
  {
   "cell_type": "code",
   "execution_count": 4,
   "metadata": {
    "colab": {
     "base_uri": "https://localhost:8080/",
     "height": 2303
    },
    "colab_type": "code",
    "id": "Kc6YBbspXc7R",
    "outputId": "8b33d7d0-8995-488f-8202-c398c1988cde"
   },
   "outputs": [
    {
     "name": "stdout",
     "output_type": "stream",
     "text": [
      "Juego ...  1\n",
      "Estado al Inicio: (18, 1, False)\n",
      "Jugador:  [10, 8]\n",
      "Dealer:  [1, 7]\n",
      "SE PLANTA\n",
      "Estado Actual: (18, 1, False)\n",
      "Jugador:  [10, 8]\n",
      "Dealer:  [1, 7]\n",
      "Recompensa: 0.0\n",
      "Juego ...  2\n",
      "Estado al Inicio: (14, 10, False)\n",
      "Jugador:  [7, 7]\n",
      "Dealer:  [10, 4]\n",
      "SIGUE\n",
      "Estado Actual: (20, 10, False)\n",
      "Jugador:  [7, 7, 6]\n",
      "Dealer:  [10, 4]\n",
      "SIGUE\n",
      "Estado Actual: (24, 10, False)\n",
      "Jugador:  [7, 7, 6, 4]\n",
      "Dealer:  [10, 4]\n",
      "Recompensa: -1\n",
      "Juego ...  3\n",
      "Estado al Inicio: (19, 10, False)\n",
      "Jugador:  [10, 9]\n",
      "Dealer:  [10, 10]\n",
      "SE PLANTA\n",
      "Estado Actual: (19, 10, False)\n",
      "Jugador:  [10, 9]\n",
      "Dealer:  [10, 10]\n",
      "Recompensa: -1.0\n",
      "Juego ...  4\n",
      "Estado al Inicio: (13, 10, True)\n",
      "Jugador:  [1, 2]\n",
      "Dealer:  [10, 3]\n",
      "SIGUE\n",
      "Estado Actual: (15, 10, True)\n",
      "Jugador:  [1, 2, 2]\n",
      "Dealer:  [10, 3]\n",
      "SIGUE\n",
      "Estado Actual: (16, 10, True)\n",
      "Jugador:  [1, 2, 2, 1]\n",
      "Dealer:  [10, 3]\n",
      "SIGUE\n",
      "Estado Actual: (18, 10, True)\n",
      "Jugador:  [1, 2, 2, 1, 2]\n",
      "Dealer:  [10, 3]\n",
      "SIGUE\n",
      "Estado Actual: (21, 10, True)\n",
      "Jugador:  [1, 2, 2, 1, 2, 3]\n",
      "Dealer:  [10, 3]\n",
      "SIGUE\n",
      "Estado Actual: (18, 10, False)\n",
      "Jugador:  [1, 2, 2, 1, 2, 3, 7]\n",
      "Dealer:  [10, 3]\n",
      "SIGUE\n",
      "Estado Actual: (23, 10, False)\n",
      "Jugador:  [1, 2, 2, 1, 2, 3, 7, 5]\n",
      "Dealer:  [10, 3]\n",
      "Recompensa: -1\n",
      "Juego ...  5\n",
      "Estado al Inicio: (16, 8, False)\n",
      "Jugador:  [7, 9]\n",
      "Dealer:  [8, 10]\n",
      "SIGUE\n",
      "Estado Actual: (26, 8, False)\n",
      "Jugador:  [7, 9, 10]\n",
      "Dealer:  [8, 10]\n",
      "Recompensa: -1\n",
      "Juego ...  6\n",
      "Estado al Inicio: (14, 10, False)\n",
      "Jugador:  [10, 4]\n",
      "Dealer:  [10, 1]\n",
      "SE PLANTA\n",
      "Estado Actual: (14, 10, False)\n",
      "Jugador:  [10, 4]\n",
      "Dealer:  [10, 1]\n",
      "Recompensa: -1.0\n",
      "Juego ...  7\n",
      "Estado al Inicio: (10, 10, False)\n",
      "Jugador:  [5, 5]\n",
      "Dealer:  [10, 5]\n",
      "SE PLANTA\n",
      "Estado Actual: (10, 10, False)\n",
      "Jugador:  [5, 5]\n",
      "Dealer:  [10, 5, 5]\n",
      "Recompensa: -1.0\n",
      "Juego ...  8\n",
      "Estado al Inicio: (5, 9, False)\n",
      "Jugador:  [3, 2]\n",
      "Dealer:  [9, 10]\n",
      "SIGUE\n",
      "Estado Actual: (9, 9, False)\n",
      "Jugador:  [3, 2, 4]\n",
      "Dealer:  [9, 10]\n",
      "SE PLANTA\n",
      "Estado Actual: (9, 9, False)\n",
      "Jugador:  [3, 2, 4]\n",
      "Dealer:  [9, 10]\n",
      "Recompensa: -1.0\n",
      "Juego ...  9\n",
      "Estado al Inicio: (17, 7, False)\n",
      "Jugador:  [10, 7]\n",
      "Dealer:  [7, 10]\n",
      "SE PLANTA\n",
      "Estado Actual: (17, 7, False)\n",
      "Jugador:  [10, 7]\n",
      "Dealer:  [7, 10]\n",
      "Recompensa: 0.0\n",
      "Juego ...  10\n",
      "Estado al Inicio: (20, 10, False)\n",
      "Jugador:  [10, 10]\n",
      "Dealer:  [10, 4]\n",
      "SE PLANTA\n",
      "Estado Actual: (20, 10, False)\n",
      "Jugador:  [10, 10]\n",
      "Dealer:  [10, 4, 1, 10]\n",
      "Recompensa: 1.0\n",
      "\n",
      "Ganados:  10.0 %\n",
      "\n",
      "\n",
      "Empatados:  0.0 %\n",
      "\n",
      "\n",
      "Perdidos:  70.0 %\n",
      "\n"
     ]
    }
   ],
   "source": [
    "action_name = [\"SE PLANTA\",\"SIGUE\"]\n",
    "play_games = 10 # Varie la cantidad de juegos \n",
    "\n",
    "rewards = list()\n",
    "\n",
    "for g in range(0, play_games):\n",
    "    print(\"Juego ... \",g+1)\n",
    "    \n",
    "    # Arranca de nuevo, resetea el entorno\n",
    "    initial_state = env.reset()\n",
    "    \n",
    "    print(\"Estado al Inicio:\", initial_state)\n",
    "   \n",
    "    while(True):\n",
    "        # Muestra el entorno, lo dibuja - en BlackJack no hay entrono visual\n",
    "        #env.render()\n",
    "        print(\"Jugador: \",env.player)\n",
    "        print(\"Dealer: \",env.dealer)\n",
    "        # Elije una acción\n",
    "        action = action_space.sample()\n",
    "        \n",
    "        print(action_name[action])\n",
    "\n",
    "        # Toma una acción\n",
    "        next_state, reward, done, _ = env.step(action)\n",
    "        \n",
    "        print(\"Estado Actual:\", next_state)\n",
    "        \n",
    "        \n",
    "        if done:\n",
    "            rewards.append(reward)\n",
    "            print(\"Jugador: \",env.player)\n",
    "            print(\"Dealer: \",env.dealer)\n",
    "            print(\"Recompensa:\", reward)\n",
    "            \n",
    "            break\n",
    "\n",
    "  \n",
    "\n",
    "print(\"\\nGanados: \",np.sum([t for t in rewards if t > 0])/play_games*100,\"%\\n\")\n",
    "print(\"\\nEmpatados: \",np.sum([t for t in rewards if t == 0])/play_games*100,\"%\\n\")\n",
    "print(\"\\nPerdidos: \",np.sum([t*-1 for t in rewards if t < 0])/play_games*100,\"%\\n\")\n",
    "    \n",
    "    "
   ]
  },
  {
   "cell_type": "markdown",
   "metadata": {
    "colab_type": "text",
    "id": "KedyqW2HIUPb"
   },
   "source": [
    "En el código anterior, elegimos la accion de manera aleatoria (random_policy)"
   ]
  },
  {
   "cell_type": "code",
   "execution_count": 0,
   "metadata": {
    "colab": {},
    "colab_type": "code",
    "id": "EMnD5BDlITyn"
   },
   "outputs": [],
   "source": [
    "def random_policy():\n",
    "  return action_space.sample()"
   ]
  },
  {
   "cell_type": "markdown",
   "metadata": {
    "colab_type": "text",
    "id": "F12JlF2UbUth"
   },
   "source": [
    "## Actividad 2: Generando una secuencia de episodios\n",
    "\n",
    "Para terminar de comprender el entorno, podemos escribir un método que dado un entorno y eligiendo siempre acciones aleatorias, retorne una lista con los estados, acciones y retornos de un episodio :\n",
    "\n",
    "<center>\n",
    "  \n",
    "$s_0a_1r_1 s_1a_2r_2 s_2a_3r_3.... s_{n-1}a_nr_ns_n$\n",
    "\n",
    "\n",
    "  \n",
    "</center>\n",
    "\n",
    "Donde:\n",
    "* Acción: $a_i$ $\\in$ $A$ y $0 \\leq i < n$ \n",
    "* Estado: $s_i$ $\\in$ $S$ y $0 \\leq i < n$\n",
    "* Recompensa: $r_i$ $\\in$ $R$ y $0 \\leq i < n$ \n",
    "* $n$ es longitud del episodio simulado\n",
    "\n"
   ]
  },
  {
   "cell_type": "code",
   "execution_count": 0,
   "metadata": {
    "colab": {},
    "colab_type": "code",
    "id": "EaxRjP9lbmKx"
   },
   "outputs": [],
   "source": [
    "\n",
    "\n",
    "def generate_episode(policy):\n",
    "  episode_list = []\n",
    "  \n",
    "  initial_state = env.reset()\n",
    "  \n",
    "  state = initial_state\n",
    "  \n",
    "  while(True):\n",
    "        # Elije una acción aleatoria\n",
    "        action = action_space.sample()\n",
    "        \n",
    "        # Toma la acción action\n",
    "        next_state, reward, done, _ = env.step(action)\n",
    "        \n",
    "        ## Agrega la acción, retorno y próximo estado a la lista\n",
    "        episode_list.append( (state, action, reward) )\n",
    "       \n",
    "        \n",
    "        state = next_state\n",
    "         \n",
    "        if done:\n",
    "            \n",
    "            break\n",
    "            \n",
    "  return episode_list           \n",
    "\n",
    "  \n",
    "  "
   ]
  },
  {
   "cell_type": "markdown",
   "metadata": {
    "colab_type": "text",
    "id": "VXb8a5QWdh_z"
   },
   "source": [
    "Testeo del método *generate_episode*"
   ]
  },
  {
   "cell_type": "code",
   "execution_count": 9,
   "metadata": {
    "colab": {
     "base_uri": "https://localhost:8080/",
     "height": 35
    },
    "colab_type": "code",
    "id": "uluIaCQTdhM-",
    "outputId": "d51f7a17-f496-41c2-b3a3-56797ce33f76"
   },
   "outputs": [
    {
     "name": "stdout",
     "output_type": "stream",
     "text": [
      "[((19, 3, False), 0, 1.0)]\n"
     ]
    }
   ],
   "source": [
    "episode_list = generate_episode(random_policy)\n",
    "\n",
    "print(episode_list)"
   ]
  },
  {
   "cell_type": "markdown",
   "metadata": {
    "colab_type": "text",
    "id": "6A-WvpZReym5"
   },
   "source": [
    "Recordar que el **estado** (observation), en el caso del Entorno de Blackjack de OpenAI, es una tripleta de: la suma del juegador actual, si el dealer está mostrando un As or si el juegador tiene o no un as usable (0 o 1).\n",
    "\n",
    "**Acción** con valor 0 significa que SE PLANTA y con valor 1, que SIGUE.\n",
    "\n",
    "**Retorno** con valor -1 significa PIERDE, con valor 0 EMPATA, y con valor 1 GANA."
   ]
  },
  {
   "cell_type": "markdown",
   "metadata": {
    "colab_type": "text",
    "id": "F2_5gNCoPw0j"
   },
   "source": [
    "## Actividad 3: Implementando una Q-Table"
   ]
  },
  {
   "cell_type": "markdown",
   "metadata": {
    "colab_type": "text",
    "id": "6SAu4yk6P-RN"
   },
   "source": [
    "Para implementar una Q-Table precisamos para cada estado tener un arreglo del tamaño de la cantidad de acciones que hay. \n",
    "\n",
    "En este caso, vamos a usar un diccionario cuyas claves son los estados y los valores un arreglo de numpy de 2 posiciones. Cada posición del arreglo va a guardar el retorno esperado para cada acción 0: SE PLANTA o 1: SIGUE."
   ]
  },
  {
   "cell_type": "markdown",
   "metadata": {
    "colab_type": "text",
    "id": "4bdARy9mRn9X"
   },
   "source": [
    "#### Creamos la estructura de datos que va a representar la Q-Table"
   ]
  },
  {
   "cell_type": "code",
   "execution_count": 0,
   "metadata": {
    "colab": {},
    "colab_type": "code",
    "id": "wfHkDAYaIMpT"
   },
   "outputs": [],
   "source": [
    "from collections import defaultdict\n",
    "from functools import partial\n",
    "\n",
    "# Se le pasa por parametro la función np.zeros con parámetro 2. \n",
    "# Le estamos indicando que cada clave que agregue en el diccionario\n",
    "# va a crear un vector de dos posiciones de ceros como su valor.\n",
    "Q = None\n",
    "\n",
    "def create_Q_Table():\n",
    "  return defaultdict(partial(np.zeros, 2))\n",
    "  \n",
    "Q = create_Q_Table()"
   ]
  },
  {
   "cell_type": "markdown",
   "metadata": {
    "colab_type": "text",
    "id": "4w22bJ75R2AH"
   },
   "source": [
    "#### Podemos por ejemplo, generar un episodio e ir llenando la tabla con los retornos"
   ]
  },
  {
   "cell_type": "code",
   "execution_count": 0,
   "metadata": {
    "colab": {
     "base_uri": "https://localhost:8080/",
     "height": 53
    },
    "colab_type": "code",
    "id": "D1N201SSIM0h",
    "outputId": "46762d85-921d-41c0-f558-8571b053844e"
   },
   "outputs": [
    {
     "name": "stdout",
     "output_type": "stream",
     "text": [
      "defaultdict(..., {(21, 10, True): array([0., 0.]), (21, 10, False): array([1., 0.])}) \n",
      "\n"
     ]
    }
   ],
   "source": [
    "def add_one_game_to_Q():\n",
    "  episode_list = generate_episode(random_policy)\n",
    "\n",
    "  i = 0\n",
    "\n",
    "  while(i < len(episode_list)):\n",
    "      state = episode_list[i][0]\n",
    "      action = episode_list[i][1]\n",
    "      reward = episode_list[i][2]\n",
    "\n",
    "      Q[state][action] = Q[state][action]+reward\n",
    "      i = i+1\n",
    "\n",
    "add_one_game_to_Q()\n",
    "print(Q,\"\\n\")"
   ]
  },
  {
   "cell_type": "markdown",
   "metadata": {
    "colab_type": "text",
    "id": "A8rL-8myR-9Q"
   },
   "source": [
    "#### Así quedarían almacenados los datos en la Q-Table"
   ]
  },
  {
   "cell_type": "code",
   "execution_count": 0,
   "metadata": {
    "colab": {
     "base_uri": "https://localhost:8080/",
     "height": 143
    },
    "colab_type": "code",
    "id": "uKFYkeYSRzvT",
    "outputId": "afda77d7-4ad7-49a6-c778-4c0af8839f53"
   },
   "outputs": [
    {
     "name": "stdout",
     "output_type": "stream",
     "text": [
      "Las claves son los estados:  [(21, 10, True), (21, 10, False)]\n",
      "---------- Q-Table ------------\n",
      "\t\t 0\t1\n",
      "-------------------------------\n",
      "(21, 10, True)\t|0.000\t|0.000\n",
      "(21, 10, False)\t|1.000\t|0.000\n",
      "Nota: Los valores estan truncados a tres dígitos para visualización\n"
     ]
    }
   ],
   "source": [
    "def print_Q(Q):\n",
    "    \n",
    "    states = list(Q.keys())\n",
    "     \n",
    "    print(\"Las claves son los estados: \", states)\n",
    "    \n",
    "    actions = [str(i) for i in range(len(Q[states[0]]))]\n",
    "    \n",
    "    print(\"---------- Q-Table ------------\")\n",
    "    print(\"\\t\\t\",\"\\t\".join(actions))\n",
    "    print(\"-------------------------------\")\n",
    "    \n",
    "    for s in states:\n",
    "        values = [Q[s][int(a)] for a in actions]\n",
    "        print(f\"{s}\\t|{values[0]:.3f}\\t|{values[1]:.3f}\")\n",
    "        \n",
    "    print(\"Nota: Los valores estan truncados a tres dígitos para visualización\")\n",
    "                \n",
    "print_Q(Q)\n",
    "\n"
   ]
  },
  {
   "cell_type": "markdown",
   "metadata": {
    "colab_type": "text",
    "id": "KawTy4aIWBud"
   },
   "source": [
    "### Veamos como quedaría la Q-Table después de 10 juegos.\n",
    "\n",
    "¿Basándose en la tabla que decisiones se podría tomar para ganar?"
   ]
  },
  {
   "cell_type": "code",
   "execution_count": 0,
   "metadata": {
    "colab": {
     "base_uri": "https://localhost:8080/",
     "height": 6913
    },
    "colab_type": "code",
    "id": "A2Ulpt9iWTLv",
    "outputId": "bf6a67f1-2d09-4fe9-f089-aa7f05bfb55c"
   },
   "outputs": [
    {
     "name": "stdout",
     "output_type": "stream",
     "text": [
      "Las claves son los estados:  [(18, 1, False), (20, 3, False), (24, 10, False), (7, 10, False), (17, 10, False), (21, 10, False), (15, 9, False), (16, 2, False), (17, 8, False), (15, 10, False), (17, 4, False), (20, 10, False), (28, 10, False), (14, 3, False), (23, 2, False), (16, 10, True), (19, 10, False), (21, 5, False), (24, 5, False), (15, 5, False), (19, 4, False), (29, 8, False), (20, 8, False), (18, 10, False), (13, 5, False), (25, 10, False), (12, 2, False), (17, 2, False), (22, 10, False), (16, 3, True), (14, 7, False), (12, 10, False), (28, 8, False), (19, 4, True), (28, 4, False), (21, 3, True), (15, 3, False), (12, 3, False), (17, 5, False), (7, 9, False), (22, 8, False), (17, 10, True), (10, 10, False), (18, 6, False), (24, 9, False), (13, 10, False), (14, 8, True), (13, 7, False), (21, 9, True), (14, 2, False), (21, 1, True), (16, 3, False), (21, 7, False), (19, 10, True), (14, 5, False), (16, 1, True), (26, 10, False), (19, 3, False), (28, 3, False), (13, 6, False), (9, 10, False), (28, 1, False), (11, 10, False), (21, 10, True), (24, 6, False), (27, 1, False), (20, 6, False), (16, 10, False), (19, 5, True), (12, 5, False), (18, 5, False), (18, 9, False), (27, 9, False), (14, 1, False), (13, 4, False), (29, 4, False), (9, 1, False), (14, 4, False), (19, 6, False), (16, 8, False), (6, 3, False), (27, 5, False), (14, 10, True), (20, 10, True), (18, 1, True), (16, 7, False), (17, 7, False), (20, 7, False), (30, 6, False), (26, 2, False), (23, 10, False), (19, 1, False), (18, 8, False), (30, 2, False), (17, 3, True), (25, 5, False), (19, 8, False), (12, 1, False), (20, 7, True), (12, 7, False), (24, 7, False), (23, 7, False), (31, 10, False), (23, 8, False), (14, 4, True), (21, 8, True), (20, 1, False), (22, 1, False), (17, 1, False), (21, 7, True), (8, 4, False), (10, 2, False), (19, 9, False), (20, 9, False), (19, 5, False), (29, 3, False), (20, 3, True), (13, 3, False), (21, 6, True), (9, 3, False), (13, 2, False), (30, 3, False), (7, 5, False), (24, 2, False), (22, 2, False), (30, 9, False), (13, 10, True), (21, 5, True), (18, 4, True), (15, 6, False), (18, 2, True), (27, 8, False), (20, 4, False), (30, 4, False), (27, 2, False), (14, 6, False), (21, 9, False), (31, 9, False), (6, 5, False), (20, 2, False), (11, 4, False), (17, 3, False), (10, 9, False), (12, 6, True), (12, 6, False), (14, 9, False), (17, 6, False), (6, 6, False), (22, 3, False), (25, 9, False), (17, 9, False), (30, 10, False), (24, 4, False), (22, 9, False), (20, 5, True), (21, 4, False), (31, 4, False), (21, 4, True), (12, 8, False), (28, 9, False), (19, 7, False), (22, 7, False), (19, 9, True), (8, 7, False), (15, 1, False), (19, 2, False), (16, 4, False), (18, 7, False), (26, 4, False), (17, 9, True), (20, 5, False), (5, 10, False), (29, 1, False), (21, 2, False), (28, 2, False), (16, 5, False), (12, 3, True), (14, 10, False), (21, 8, False), (13, 9, False), (8, 1, False), (22, 6, False), (21, 2, True), (10, 6, False), (26, 3, False), (26, 9, False), (27, 7, False), (25, 2, False), (18, 4, False), (22, 4, False), (13, 1, False), (10, 5, False), (13, 8, False), (22, 5, False), (9, 2, False), (23, 5, False), (9, 4, False), (26, 1, False), (11, 8, False), (30, 1, False), (16, 6, False), (16, 1, False), (7, 2, False), (29, 9, False), (15, 2, False), (30, 7, False), (21, 6, False), (26, 6, False), (24, 8, False), (18, 2, False), (8, 2, False), (23, 9, False), (21, 3, False), (31, 3, False), (15, 4, False), (14, 3, True), (25, 4, False), (24, 3, False), (16, 4, True), (11, 5, False), (11, 2, False), (15, 7, False), (10, 7, False), (11, 6, False), (18, 7, True), (28, 7, False), (23, 6, False), (6, 10, False), (27, 10, False), (28, 5, False), (29, 10, False), (18, 3, False), (21, 1, False), (31, 1, False), (19, 6, True), (12, 4, False), (10, 1, False), (14, 9, True), (25, 6, False), (19, 8, True), (25, 1, False), (17, 1, True), (27, 3, False), (8, 9, False), (25, 8, False), (27, 6, False), (11, 3, False), (9, 8, False), (15, 5, True), (9, 7, False), (8, 10, False), (20, 1, True), (11, 1, False), (29, 7, False), (14, 8, False), (5, 9, False), (11, 7, False), (9, 9, False), (15, 8, False), (10, 3, False), (15, 7, True), (15, 10, True), (13, 8, True), (29, 2, False), (30, 8, False), (25, 3, False), (30, 5, False), (23, 1, False), (26, 5, False), (18, 10, True), (26, 8, False), (20, 8, True), (23, 3, False), (29, 6, False), (19, 7, True), (15, 1, True), (12, 10, True), (7, 6, False), (10, 4, False), (8, 5, False), (29, 5, False), (26, 7, False), (16, 9, False), (19, 1, True), (7, 1, False), (16, 9, True), (10, 8, False), (4, 10, False), (7, 4, False), (16, 2, True), (23, 4, False), (27, 4, False), (12, 9, False), (24, 1, False), (6, 7, False), (5, 2, False), (16, 6, True), (28, 6, False), (13, 5, True), (6, 9, False), (20, 9, True), (20, 2, True), (19, 2, True), (15, 6, True), (8, 8, False), (13, 1, True), (9, 6, False), (8, 3, False), (17, 7, True), (13, 9, True), (6, 1, False), (13, 2, True), (17, 6, True), (5, 8, False), (15, 8, True), (13, 6, True), (5, 5, False), (8, 6, False), (15, 2, True), (4, 6, False), (13, 3, True), (18, 3, True), (25, 7, False), (5, 3, False), (31, 6, False), (13, 7, True), (6, 4, False), (7, 3, False), (17, 2, True), (14, 1, True), (20, 4, True), (16, 8, True), (14, 5, True), (31, 5, False), (9, 5, False), (18, 8, True), (13, 4, True), (31, 8, False), (18, 5, True), (14, 2, True), (31, 7, False), (20, 6, True), (11, 9, False), (14, 6, True), (16, 7, True), (15, 9, True), (19, 3, True), (12, 9, True), (16, 5, True), (7, 8, False), (6, 8, False), (4, 8, False), (15, 4, True), (17, 5, True), (5, 7, False), (4, 1, False), (4, 3, False), (18, 6, True), (17, 8, True), (6, 2, False), (5, 1, False), (7, 7, False), (5, 6, False), (17, 4, True), (15, 3, True), (4, 7, False), (12, 2, True), (5, 4, False), (4, 5, False), (18, 9, True), (12, 1, True), (4, 2, False), (12, 4, True), (14, 7, True), (12, 7, True), (31, 2, False), (12, 5, True)]\n",
      "---------- Q-Table ------------\n",
      "\t\t 0\t1\n",
      "-------------------------------\n",
      "(18, 1, False)\t|-11.000\t|0.000\n",
      "(20, 3, False)\t|41.000\t|0.000\n",
      "(24, 10, False)\t|0.000\t|-140.000\n",
      "(7, 10, False)\t|-21.000\t|0.000\n",
      "(17, 10, False)\t|-95.000\t|0.000\n",
      "(21, 10, False)\t|84.000\t|0.000\n",
      "(15, 9, False)\t|-11.000\t|0.000\n",
      "(16, 2, False)\t|-14.000\t|0.000\n",
      "(17, 8, False)\t|-11.000\t|0.000\n",
      "(15, 10, False)\t|-88.000\t|0.000\n",
      "(17, 4, False)\t|0.000\t|0.000\n",
      "(20, 10, False)\t|87.000\t|0.000\n",
      "(28, 10, False)\t|0.000\t|-73.000\n",
      "(14, 3, False)\t|-14.000\t|0.000\n",
      "(23, 2, False)\t|0.000\t|-28.000\n",
      "(16, 10, True)\t|-12.000\t|0.000\n",
      "(19, 10, False)\t|-4.000\t|0.000\n",
      "(21, 5, False)\t|9.000\t|0.000\n",
      "(24, 5, False)\t|0.000\t|-46.000\n",
      "(15, 5, False)\t|7.000\t|0.000\n",
      "(19, 4, False)\t|26.000\t|0.000\n",
      "(29, 8, False)\t|0.000\t|-18.000\n",
      "(20, 8, False)\t|55.000\t|0.000\n",
      "(18, 10, False)\t|-27.000\t|0.000\n",
      "(13, 5, False)\t|-5.000\t|0.000\n",
      "(25, 10, False)\t|0.000\t|-113.000\n",
      "(12, 2, False)\t|-22.000\t|0.000\n",
      "(17, 2, False)\t|4.000\t|0.000\n",
      "(22, 10, False)\t|0.000\t|-147.000\n",
      "(16, 3, True)\t|-2.000\t|0.000\n",
      "(14, 7, False)\t|-30.000\t|0.000\n",
      "(12, 10, False)\t|-90.000\t|0.000\n",
      "(28, 8, False)\t|0.000\t|-19.000\n",
      "(19, 4, True)\t|4.000\t|0.000\n",
      "(28, 4, False)\t|0.000\t|-22.000\n",
      "(21, 3, True)\t|16.000\t|0.000\n",
      "(15, 3, False)\t|-12.000\t|0.000\n",
      "(12, 3, False)\t|2.000\t|0.000\n",
      "(17, 5, False)\t|-1.000\t|0.000\n",
      "(7, 9, False)\t|-7.000\t|0.000\n",
      "(22, 8, False)\t|0.000\t|-50.000\n",
      "(17, 10, True)\t|-12.000\t|0.000\n",
      "(10, 10, False)\t|-34.000\t|0.000\n",
      "(18, 6, False)\t|17.000\t|0.000\n",
      "(24, 9, False)\t|0.000\t|-32.000\n",
      "(13, 10, False)\t|-101.000\t|0.000\n",
      "(14, 8, True)\t|-2.000\t|0.000\n",
      "(13, 7, False)\t|-22.000\t|0.000\n",
      "(21, 9, True)\t|26.000\t|0.000\n",
      "(14, 2, False)\t|-20.000\t|0.000\n",
      "(21, 1, True)\t|15.000\t|0.000\n",
      "(16, 3, False)\t|-6.000\t|0.000\n",
      "(21, 7, False)\t|21.000\t|0.000\n",
      "(19, 10, True)\t|2.000\t|0.000\n",
      "(14, 5, False)\t|-12.000\t|0.000\n",
      "(16, 1, True)\t|-4.000\t|0.000\n",
      "(26, 10, False)\t|0.000\t|-103.000\n",
      "(19, 3, False)\t|10.000\t|0.000\n",
      "(28, 3, False)\t|0.000\t|-22.000\n",
      "(13, 6, False)\t|3.000\t|0.000\n",
      "(9, 10, False)\t|-39.000\t|0.000\n",
      "(28, 1, False)\t|0.000\t|-9.000\n",
      "(11, 10, False)\t|-52.000\t|0.000\n",
      "(21, 10, True)\t|72.000\t|0.000\n",
      "(24, 6, False)\t|0.000\t|-31.000\n",
      "(27, 1, False)\t|0.000\t|-21.000\n",
      "(20, 6, False)\t|38.000\t|0.000\n",
      "(16, 10, False)\t|-102.000\t|0.000\n",
      "(19, 5, True)\t|4.000\t|0.000\n",
      "(12, 5, False)\t|-3.000\t|0.000\n",
      "(18, 5, False)\t|7.000\t|0.000\n",
      "(18, 9, False)\t|-3.000\t|0.000\n",
      "(27, 9, False)\t|0.000\t|-23.000\n",
      "(14, 1, False)\t|-38.000\t|0.000\n",
      "(13, 4, False)\t|-9.000\t|0.000\n",
      "(29, 4, False)\t|0.000\t|-22.000\n",
      "(9, 1, False)\t|-9.000\t|0.000\n",
      "(14, 4, False)\t|-14.000\t|0.000\n",
      "(19, 6, False)\t|22.000\t|0.000\n",
      "(16, 8, False)\t|-14.000\t|0.000\n",
      "(6, 3, False)\t|-2.000\t|0.000\n",
      "(27, 5, False)\t|0.000\t|-16.000\n",
      "(14, 10, True)\t|-4.000\t|0.000\n",
      "(20, 10, True)\t|12.000\t|0.000\n",
      "(18, 1, True)\t|-2.000\t|0.000\n",
      "(16, 7, False)\t|-29.000\t|0.000\n",
      "(17, 7, False)\t|2.000\t|0.000\n",
      "(20, 7, False)\t|40.000\t|0.000\n",
      "(30, 6, False)\t|0.000\t|-18.000\n",
      "(26, 2, False)\t|0.000\t|-30.000\n",
      "(23, 10, False)\t|0.000\t|-150.000\n",
      "(19, 1, False)\t|3.000\t|0.000\n",
      "(18, 8, False)\t|8.000\t|0.000\n",
      "(30, 2, False)\t|0.000\t|-22.000\n",
      "(17, 3, True)\t|-1.000\t|0.000\n",
      "(25, 5, False)\t|0.000\t|-23.000\n",
      "(19, 8, False)\t|28.000\t|0.000\n",
      "(12, 1, False)\t|-35.000\t|0.000\n",
      "(20, 7, True)\t|3.000\t|0.000\n",
      "(12, 7, False)\t|-20.000\t|0.000\n",
      "(24, 7, False)\t|0.000\t|-43.000\n",
      "(23, 7, False)\t|0.000\t|-29.000\n",
      "(31, 10, False)\t|0.000\t|-30.000\n",
      "(23, 8, False)\t|0.000\t|-37.000\n",
      "(14, 4, True)\t|-1.000\t|0.000\n",
      "(21, 8, True)\t|18.000\t|0.000\n",
      "(20, 1, False)\t|18.000\t|0.000\n",
      "(22, 1, False)\t|0.000\t|-39.000\n",
      "(17, 1, False)\t|-20.000\t|0.000\n",
      "(21, 7, True)\t|22.000\t|0.000\n",
      "(8, 4, False)\t|2.000\t|0.000\n",
      "(10, 2, False)\t|-4.000\t|0.000\n",
      "(19, 9, False)\t|7.000\t|0.000\n",
      "(20, 9, False)\t|51.000\t|0.000\n",
      "(19, 5, False)\t|3.000\t|0.000\n",
      "(29, 3, False)\t|0.000\t|-13.000\n",
      "(20, 3, True)\t|2.000\t|0.000\n",
      "(13, 3, False)\t|-4.000\t|0.000\n",
      "(21, 6, True)\t|16.000\t|0.000\n",
      "(9, 3, False)\t|-9.000\t|0.000\n",
      "(13, 2, False)\t|-8.000\t|0.000\n",
      "(30, 3, False)\t|0.000\t|-18.000\n",
      "(7, 5, False)\t|1.000\t|0.000\n",
      "(24, 2, False)\t|0.000\t|-29.000\n",
      "(22, 2, False)\t|0.000\t|-41.000\n",
      "(30, 9, False)\t|0.000\t|-23.000\n",
      "(13, 10, True)\t|-11.000\t|0.000\n",
      "(21, 5, True)\t|21.000\t|0.000\n",
      "(18, 4, True)\t|-1.000\t|0.000\n",
      "(15, 6, False)\t|-1.000\t|0.000\n",
      "(18, 2, True)\t|1.000\t|0.000\n",
      "(27, 8, False)\t|0.000\t|-13.000\n",
      "(20, 4, False)\t|37.000\t|0.000\n",
      "(30, 4, False)\t|0.000\t|-16.000\n",
      "(27, 2, False)\t|0.000\t|-25.000\n",
      "(14, 6, False)\t|-8.000\t|0.000\n",
      "(21, 9, False)\t|18.000\t|0.000\n",
      "(31, 9, False)\t|0.000\t|-4.000\n",
      "(6, 5, False)\t|-5.000\t|0.000\n",
      "(20, 2, False)\t|40.000\t|0.000\n",
      "(11, 4, False)\t|-5.000\t|0.000\n",
      "(17, 3, False)\t|-5.000\t|0.000\n",
      "(10, 9, False)\t|-17.000\t|0.000\n",
      "(12, 6, True)\t|2.000\t|0.000\n",
      "(12, 6, False)\t|-6.000\t|0.000\n",
      "(14, 9, False)\t|-18.000\t|0.000\n",
      "(17, 6, False)\t|-5.000\t|0.000\n",
      "(6, 6, False)\t|1.000\t|0.000\n",
      "(22, 3, False)\t|0.000\t|-50.000\n",
      "(25, 9, False)\t|0.000\t|-30.000\n",
      "(17, 9, False)\t|-9.000\t|0.000\n",
      "(30, 10, False)\t|0.000\t|-68.000\n",
      "(24, 4, False)\t|0.000\t|-38.000\n",
      "(22, 9, False)\t|0.000\t|-40.000\n",
      "(20, 5, True)\t|6.000\t|0.000\n",
      "(21, 4, False)\t|10.000\t|0.000\n",
      "(31, 4, False)\t|0.000\t|-4.000\n",
      "(21, 4, True)\t|24.000\t|0.000\n",
      "(12, 8, False)\t|-20.000\t|0.000\n",
      "(28, 9, False)\t|0.000\t|-18.000\n",
      "(19, 7, False)\t|27.000\t|0.000\n",
      "(22, 7, False)\t|0.000\t|-39.000\n",
      "(19, 9, True)\t|0.000\t|0.000\n",
      "(8, 7, False)\t|-9.000\t|0.000\n",
      "(15, 1, False)\t|-30.000\t|0.000\n",
      "(19, 2, False)\t|16.000\t|0.000\n",
      "(16, 4, False)\t|-9.000\t|0.000\n",
      "(18, 7, False)\t|6.000\t|0.000\n",
      "(26, 4, False)\t|0.000\t|-37.000\n",
      "(17, 9, True)\t|-3.000\t|0.000\n",
      "(20, 5, False)\t|22.000\t|0.000\n",
      "(5, 10, False)\t|-8.000\t|0.000\n",
      "(29, 1, False)\t|0.000\t|-18.000\n",
      "(21, 2, False)\t|17.000\t|0.000\n",
      "(28, 2, False)\t|0.000\t|-19.000\n",
      "(16, 5, False)\t|0.000\t|0.000\n",
      "(12, 3, True)\t|-1.000\t|0.000\n",
      "(14, 10, False)\t|-75.000\t|0.000\n",
      "(21, 8, False)\t|22.000\t|0.000\n",
      "(13, 9, False)\t|-21.000\t|0.000\n",
      "(8, 1, False)\t|-7.000\t|0.000\n",
      "(22, 6, False)\t|0.000\t|-38.000\n",
      "(21, 2, True)\t|13.000\t|0.000\n",
      "(10, 6, False)\t|-3.000\t|0.000\n",
      "(26, 3, False)\t|0.000\t|-28.000\n",
      "(26, 9, False)\t|0.000\t|-35.000\n",
      "(27, 7, False)\t|0.000\t|-21.000\n",
      "(25, 2, False)\t|0.000\t|-32.000\n",
      "(18, 4, False)\t|-3.000\t|0.000\n",
      "(22, 4, False)\t|0.000\t|-35.000\n",
      "(13, 1, False)\t|-26.000\t|0.000\n",
      "(10, 5, False)\t|-10.000\t|0.000\n",
      "(13, 8, False)\t|-31.000\t|0.000\n",
      "(22, 5, False)\t|0.000\t|-40.000\n",
      "(9, 2, False)\t|2.000\t|0.000\n",
      "(23, 5, False)\t|0.000\t|-32.000\n",
      "(9, 4, False)\t|-5.000\t|0.000\n",
      "(26, 1, False)\t|0.000\t|-16.000\n",
      "(11, 8, False)\t|-4.000\t|0.000\n",
      "(30, 1, False)\t|0.000\t|-26.000\n",
      "(16, 6, False)\t|-6.000\t|0.000\n",
      "(16, 1, False)\t|-18.000\t|0.000\n",
      "(7, 2, False)\t|-6.000\t|0.000\n",
      "(29, 9, False)\t|0.000\t|-15.000\n",
      "(15, 2, False)\t|-10.000\t|0.000\n",
      "(30, 7, False)\t|0.000\t|-14.000\n",
      "(21, 6, False)\t|14.000\t|0.000\n",
      "(26, 6, False)\t|0.000\t|-22.000\n",
      "(24, 8, False)\t|0.000\t|-40.000\n",
      "(18, 2, False)\t|5.000\t|0.000\n",
      "(8, 2, False)\t|0.000\t|0.000\n",
      "(23, 9, False)\t|0.000\t|-34.000\n",
      "(21, 3, False)\t|16.000\t|0.000\n",
      "(31, 3, False)\t|0.000\t|-7.000\n",
      "(15, 4, False)\t|-1.000\t|0.000\n",
      "(14, 3, True)\t|0.000\t|0.000\n",
      "(25, 4, False)\t|0.000\t|-30.000\n",
      "(24, 3, False)\t|0.000\t|-28.000\n",
      "(16, 4, True)\t|-6.000\t|0.000\n",
      "(11, 5, False)\t|0.000\t|0.000\n",
      "(11, 2, False)\t|-3.000\t|0.000\n",
      "(15, 7, False)\t|-21.000\t|0.000\n",
      "(10, 7, False)\t|-19.000\t|0.000\n",
      "(11, 6, False)\t|1.000\t|0.000\n",
      "(18, 7, True)\t|-1.000\t|0.000\n",
      "(28, 7, False)\t|0.000\t|-25.000\n",
      "(23, 6, False)\t|0.000\t|-44.000\n",
      "(6, 10, False)\t|-27.000\t|0.000\n",
      "(27, 10, False)\t|0.000\t|-78.000\n",
      "(28, 5, False)\t|0.000\t|-18.000\n",
      "(29, 10, False)\t|0.000\t|-69.000\n",
      "(18, 3, False)\t|6.000\t|0.000\n",
      "(21, 1, False)\t|14.000\t|0.000\n",
      "(31, 1, False)\t|0.000\t|-3.000\n",
      "(19, 6, True)\t|5.000\t|0.000\n",
      "(12, 4, False)\t|-17.000\t|0.000\n",
      "(10, 1, False)\t|-23.000\t|0.000\n",
      "(14, 9, True)\t|-3.000\t|0.000\n",
      "(25, 6, False)\t|0.000\t|-23.000\n",
      "(19, 8, True)\t|3.000\t|0.000\n",
      "(25, 1, False)\t|0.000\t|-35.000\n",
      "(17, 1, True)\t|-5.000\t|0.000\n",
      "(27, 3, False)\t|0.000\t|-17.000\n",
      "(8, 9, False)\t|-4.000\t|0.000\n",
      "(25, 8, False)\t|0.000\t|-27.000\n",
      "(27, 6, False)\t|0.000\t|-21.000\n",
      "(11, 3, False)\t|-2.000\t|0.000\n",
      "(9, 8, False)\t|-8.000\t|0.000\n",
      "(15, 5, True)\t|-2.000\t|0.000\n",
      "(9, 7, False)\t|-1.000\t|0.000\n",
      "(8, 10, False)\t|-34.000\t|0.000\n",
      "(20, 1, True)\t|2.000\t|0.000\n",
      "(11, 1, False)\t|-20.000\t|0.000\n",
      "(29, 7, False)\t|0.000\t|-17.000\n",
      "(14, 8, False)\t|-15.000\t|0.000\n",
      "(5, 9, False)\t|-3.000\t|0.000\n",
      "(11, 7, False)\t|-14.000\t|0.000\n",
      "(9, 9, False)\t|-1.000\t|0.000\n",
      "(15, 8, False)\t|-16.000\t|0.000\n",
      "(10, 3, False)\t|-10.000\t|0.000\n",
      "(15, 7, True)\t|0.000\t|0.000\n",
      "(15, 10, True)\t|-20.000\t|0.000\n",
      "(13, 8, True)\t|-5.000\t|0.000\n",
      "(29, 2, False)\t|0.000\t|-13.000\n",
      "(30, 8, False)\t|0.000\t|-18.000\n",
      "(25, 3, False)\t|0.000\t|-25.000\n",
      "(30, 5, False)\t|0.000\t|-14.000\n",
      "(23, 1, False)\t|0.000\t|-40.000\n",
      "(26, 5, False)\t|0.000\t|-29.000\n",
      "(18, 10, True)\t|0.000\t|0.000\n",
      "(26, 8, False)\t|0.000\t|-29.000\n",
      "(20, 8, True)\t|4.000\t|0.000\n",
      "(23, 3, False)\t|0.000\t|-38.000\n",
      "(29, 6, False)\t|0.000\t|-12.000\n",
      "(19, 7, True)\t|5.000\t|0.000\n",
      "(15, 1, True)\t|-4.000\t|0.000\n",
      "(12, 10, True)\t|-6.000\t|0.000\n",
      "(7, 6, False)\t|2.000\t|0.000\n",
      "(10, 4, False)\t|-3.000\t|0.000\n",
      "(8, 5, False)\t|4.000\t|0.000\n",
      "(29, 5, False)\t|0.000\t|-11.000\n",
      "(26, 7, False)\t|0.000\t|-24.000\n",
      "(16, 9, False)\t|-27.000\t|0.000\n",
      "(19, 1, True)\t|1.000\t|0.000\n",
      "(7, 1, False)\t|-7.000\t|0.000\n",
      "(16, 9, True)\t|-9.000\t|0.000\n",
      "(10, 8, False)\t|-8.000\t|0.000\n",
      "(4, 10, False)\t|-3.000\t|0.000\n",
      "(7, 4, False)\t|-1.000\t|0.000\n",
      "(16, 2, True)\t|-7.000\t|0.000\n",
      "(23, 4, False)\t|0.000\t|-34.000\n",
      "(27, 4, False)\t|0.000\t|-19.000\n",
      "(12, 9, False)\t|-17.000\t|0.000\n",
      "(24, 1, False)\t|0.000\t|-29.000\n",
      "(6, 7, False)\t|-1.000\t|0.000\n",
      "(5, 2, False)\t|-4.000\t|0.000\n",
      "(16, 6, True)\t|-3.000\t|0.000\n",
      "(28, 6, False)\t|0.000\t|-11.000\n",
      "(13, 5, True)\t|1.000\t|0.000\n",
      "(6, 9, False)\t|-5.000\t|0.000\n",
      "(20, 9, True)\t|2.000\t|0.000\n",
      "(20, 2, True)\t|2.000\t|0.000\n",
      "(19, 2, True)\t|-1.000\t|0.000\n",
      "(15, 6, True)\t|-1.000\t|0.000\n",
      "(8, 8, False)\t|-7.000\t|0.000\n",
      "(13, 1, True)\t|-5.000\t|0.000\n",
      "(9, 6, False)\t|1.000\t|0.000\n",
      "(8, 3, False)\t|-3.000\t|0.000\n",
      "(17, 7, True)\t|-2.000\t|0.000\n",
      "(13, 9, True)\t|-5.000\t|0.000\n",
      "(6, 1, False)\t|-6.000\t|0.000\n",
      "(13, 2, True)\t|-1.000\t|0.000\n",
      "(17, 6, True)\t|-1.000\t|0.000\n",
      "(5, 8, False)\t|-5.000\t|0.000\n",
      "(15, 8, True)\t|-5.000\t|0.000\n",
      "(13, 6, True)\t|0.000\t|0.000\n",
      "(5, 5, False)\t|2.000\t|0.000\n",
      "(8, 6, False)\t|-6.000\t|0.000\n",
      "(15, 2, True)\t|-1.000\t|0.000\n",
      "(4, 6, False)\t|3.000\t|0.000\n",
      "(13, 3, True)\t|-5.000\t|0.000\n",
      "(18, 3, True)\t|3.000\t|0.000\n",
      "(25, 7, False)\t|0.000\t|-14.000\n",
      "(5, 3, False)\t|1.000\t|0.000\n",
      "(31, 6, False)\t|0.000\t|-5.000\n",
      "(13, 7, True)\t|-5.000\t|0.000\n",
      "(6, 4, False)\t|-3.000\t|0.000\n",
      "(7, 3, False)\t|-7.000\t|0.000\n",
      "(17, 2, True)\t|2.000\t|0.000\n",
      "(14, 1, True)\t|-3.000\t|0.000\n",
      "(20, 4, True)\t|1.000\t|0.000\n",
      "(16, 8, True)\t|-4.000\t|0.000\n",
      "(14, 5, True)\t|-2.000\t|0.000\n",
      "(31, 5, False)\t|0.000\t|-7.000\n",
      "(9, 5, False)\t|-4.000\t|0.000\n",
      "(18, 8, True)\t|-1.000\t|0.000\n",
      "(13, 4, True)\t|-1.000\t|0.000\n",
      "(31, 8, False)\t|0.000\t|-9.000\n",
      "(18, 5, True)\t|2.000\t|0.000\n",
      "(14, 2, True)\t|-5.000\t|0.000\n",
      "(31, 7, False)\t|0.000\t|-12.000\n",
      "(20, 6, True)\t|6.000\t|0.000\n",
      "(11, 9, False)\t|-8.000\t|0.000\n",
      "(14, 6, True)\t|-2.000\t|0.000\n",
      "(16, 7, True)\t|-2.000\t|0.000\n",
      "(15, 9, True)\t|1.000\t|0.000\n",
      "(19, 3, True)\t|3.000\t|0.000\n",
      "(12, 9, True)\t|0.000\t|0.000\n",
      "(16, 5, True)\t|-1.000\t|0.000\n",
      "(7, 8, False)\t|-1.000\t|0.000\n",
      "(6, 8, False)\t|-4.000\t|0.000\n",
      "(4, 8, False)\t|-2.000\t|0.000\n",
      "(15, 4, True)\t|-5.000\t|0.000\n",
      "(17, 5, True)\t|1.000\t|0.000\n",
      "(5, 7, False)\t|-2.000\t|0.000\n",
      "(4, 1, False)\t|-1.000\t|0.000\n",
      "(4, 3, False)\t|2.000\t|0.000\n",
      "(18, 6, True)\t|4.000\t|0.000\n",
      "(17, 8, True)\t|2.000\t|0.000\n",
      "(6, 2, False)\t|-3.000\t|0.000\n",
      "(5, 1, False)\t|0.000\t|0.000\n",
      "(7, 7, False)\t|-1.000\t|0.000\n",
      "(5, 6, False)\t|-1.000\t|0.000\n",
      "(17, 4, True)\t|1.000\t|0.000\n",
      "(15, 3, True)\t|1.000\t|0.000\n",
      "(4, 7, False)\t|-2.000\t|0.000\n",
      "(12, 2, True)\t|-1.000\t|0.000\n",
      "(5, 4, False)\t|-3.000\t|0.000\n",
      "(4, 5, False)\t|-1.000\t|0.000\n",
      "(18, 9, True)\t|0.000\t|0.000\n",
      "(12, 1, True)\t|-1.000\t|0.000\n",
      "(4, 2, False)\t|-1.000\t|0.000\n",
      "(12, 4, True)\t|1.000\t|0.000\n",
      "(14, 7, True)\t|2.000\t|0.000\n",
      "(12, 7, True)\t|1.000\t|0.000\n",
      "(31, 2, False)\t|0.000\t|-1.000\n",
      "(12, 5, True)\t|-1.000\t|0.000\n",
      "Nota: Los valores estan truncados a tres dígitos para visualización\n"
     ]
    }
   ],
   "source": [
    "games = 10 \n",
    "Q = create_Q_Table()\n",
    "for i in range(games):\n",
    "  add_one_game_to_Q()\n",
    "\n",
    "print_Q(Q)  "
   ]
  },
  {
   "cell_type": "markdown",
   "metadata": {
    "colab_type": "text",
    "id": "1_A4iU_tYRX8"
   },
   "source": [
    "## Actividad 4: Implementando una AI para ganar al BlackJack lo más posible\n",
    "\n",
    "Vamos a escribir una AI que utlizando Aprendizaje por Refuerzos va a aprender que decisiones tomar según la mano, para ganar al BlackJack lo más posible.\n",
    "\n"
   ]
  },
  {
   "cell_type": "markdown",
   "metadata": {
    "colab_type": "text",
    "id": "hbC-Coo3SSN5"
   },
   "source": [
    "#### Vamos a usar la política e-greedy para este ejercicio"
   ]
  },
  {
   "cell_type": "code",
   "execution_count": 0,
   "metadata": {
    "colab": {},
    "colab_type": "code",
    "id": "Z7g9XSQWGbMp"
   },
   "outputs": [],
   "source": [
    "def e_greedy(epsilon=0.5):\n",
    "    \n",
    "    # Si el estado está en la Q-table -> Puede usar el Q-table\n",
    "    if state in Q:\n",
    "        \n",
    "        # Busca la acción con el mayor valor en la Q-table\n",
    "        target_action = np.argmax(Q[state])\n",
    "        \n",
    "        # Va a elegir mayor probabilidad la target_action\n",
    "        # Y el resto, va a ser equiprobable epsilon/actions_len \n",
    "        p = [0.0 for i in range(actions_len)]\n",
    "\n",
    "        # Contruye p, las distintas probabilidad para cada acción\n",
    "        for action in range(actions_len):\n",
    "            if action == target_action:\n",
    "                p[action] = 1.0-epsilon+(epsilon/actions_len)\n",
    "            else:\n",
    "                p[action] = (epsilon/actions_len)\n",
    "\n",
    "        # Choice recibe la probabilidad de cada acción            \n",
    "        return np.random.choice(actions_len, p=p)\n",
    "    else:\n",
    "        # El estado no esta en la Q-table\n",
    "        # Elige en forma aleatoria 1/actions_len\n",
    "        return np.random.choice(actions_len)"
   ]
  },
  {
   "cell_type": "markdown",
   "metadata": {
    "colab_type": "text",
    "id": "2bKol2BmSdb5"
   },
   "source": [
    "#### Algoritmo de Monte Carlo"
   ]
  },
  {
   "cell_type": "markdown",
   "metadata": {
    "colab_type": "text",
    "id": "RIcKJQfCPncd"
   },
   "source": [
    "![Monte Carlo](http://letyrodri.com/img/cursoAI/montecarlo.png)\n"
   ]
  },
  {
   "cell_type": "code",
   "execution_count": 0,
   "metadata": {
    "colab": {},
    "colab_type": "code",
    "id": "S7p7a1zqGbUS"
   },
   "outputs": [],
   "source": [
    "def monte_carlo_learning(env, episodes = 1000, debug=False):\n",
    "    '''\n",
    "    Genera la función state-value\n",
    "    '''\n",
    "    \n",
    "    # Inicializamos la tabla vacía\n",
    "    Q = defaultdict(partial(np.zeros, actions_len))\n",
    "    \n",
    "    # Creamos dos variables para ir guardando la suma de los retornos \n",
    "    # y la cantidad (a fin de calcular el promedio)\n",
    "    returns = defaultdict(partial(np.zeros, actions_len))\n",
    "    returns_totals = defaultdict(partial(np.zeros, actions_len))\n",
    "    \n",
    "    # Va a iterar una serie de episodios\n",
    "    for e in range(episodes):\n",
    "      \n",
    "        # Genera el episodio completo y devuelve la historia \n",
    "        # (estado, accion, retorno, estado, accion, retorno...)\n",
    "        \n",
    "        episode_history = generate_episode(e_greedy)\n",
    "        \n",
    "        # Completa las variables temporales con los retornos acumulados y \n",
    "        # la cantidad de retornos\n",
    "        for (state, action, reward) in episode_history:\n",
    "            returns[state][action] = returns[state][action]+reward\n",
    "            returns_totals[state][action] = returns_totals[state][action]+1\n",
    "        \n",
    "        # Calcula el promedio y actualiza la Q-Table\n",
    "        for (state, action, reward) in episode_history:\n",
    "            Q[state][action] = returns[state][action] / returns_totals[state][action]\n",
    "\n",
    "            if debug:\n",
    "                print(f\"Actualiza Q-Table: Q({state},{action}) = \",Q[state][action],\"\\n\") \n",
    "\n",
    "\n",
    "            if done:\n",
    "                break\n",
    "    \n",
    "    return Q\n"
   ]
  },
  {
   "cell_type": "markdown",
   "metadata": {
    "colab_type": "text",
    "id": "e0Y5LzS3S84y"
   },
   "source": [
    "#### Hacemos que se ejecute el algoritmo para que aprenda y se complete la Q-Table"
   ]
  },
  {
   "cell_type": "code",
   "execution_count": 0,
   "metadata": {
    "colab": {},
    "colab_type": "code",
    "id": "JpY-6mlpGbZ0"
   },
   "outputs": [],
   "source": [
    "episodes = 100 \n",
    "\n",
    "Q = monte_carlo_learning(env,  episodes,  debug=True)\n",
    "\n"
   ]
  },
  {
   "cell_type": "markdown",
   "metadata": {
    "colab_type": "text",
    "id": "2Hd902SIeD_D"
   },
   "source": [
    "#### Miremos la Q-Table aprendida"
   ]
  },
  {
   "cell_type": "code",
   "execution_count": 0,
   "metadata": {
    "colab": {
     "base_uri": "https://localhost:8080/",
     "height": 4987
    },
    "colab_type": "code",
    "id": "Fp-rybabeBmN",
    "outputId": "aba9d1ca-0cf1-4720-943b-860c8ded6d61"
   },
   "outputs": [
    {
     "name": "stdout",
     "output_type": "stream",
     "text": [
      "Las claves son los estados:  [(14, 9, False), (11, 8, False), (11, 10, False), (20, 9, True), (18, 4, False), (20, 8, False), (14, 10, False), (12, 4, False), (20, 10, False), (15, 3, False), (20, 9, False), (10, 5, False), (21, 3, True), (17, 3, False), (18, 10, False), (12, 8, False), (14, 4, False), (21, 8, True), (17, 10, True), (12, 10, False), (13, 4, False), (17, 7, False), (16, 7, False), (15, 4, False), (19, 4, False), (17, 9, False), (15, 10, True), (17, 5, False), (13, 7, False), (12, 2, False), (18, 2, False), (19, 8, False), (15, 10, False), (9, 6, False), (17, 10, False), (12, 7, False), (16, 10, False), (13, 3, False), (7, 5, False), (21, 10, True), (12, 10, True), (4, 9, False), (14, 4, True), (13, 1, True), (13, 10, False), (18, 6, False), (13, 5, False), (18, 3, False), (16, 5, True), (10, 7, False), (18, 10, True), (14, 6, False), (18, 8, True), (14, 1, False), (14, 8, True), (20, 6, False), (15, 1, False), (16, 2, True), (19, 5, False), (12, 5, False), (19, 10, False), (18, 7, False), (16, 8, False), (13, 7, True), (11, 1, False), (17, 1, True), (17, 4, False), (15, 6, True), (11, 6, False), (15, 8, False), (17, 8, False), (18, 6, True), (15, 6, False), (16, 9, True), (16, 6, False), (13, 9, False), (10, 9, False), (17, 1, False), (7, 3, False), (13, 2, False), (9, 10, False), (20, 1, True), (9, 7, False), (16, 9, False), (12, 3, False), (21, 5, True), (20, 4, False), (20, 7, False), (16, 4, False), (7, 10, False), (19, 3, True), (20, 5, False), (16, 1, False), (19, 7, True), (20, 3, False), (20, 6, True), (13, 4, True), (9, 5, False), (13, 6, False), (12, 6, False), (13, 1, False), (14, 7, False), (14, 2, False), (16, 5, False), (7, 7, False), (8, 8, False), (6, 9, False), (14, 2, True), (8, 5, False), (13, 6, True), (15, 9, False), (19, 6, False), (16, 6, True), (19, 10, True), (10, 3, False), (13, 8, False), (18, 9, True), (20, 10, True), (8, 2, False), (9, 9, False), (14, 1, True), (11, 9, False), (15, 2, False), (9, 3, False), (16, 10, True), (20, 1, False), (15, 1, True), (14, 10, True), (4, 7, False), (18, 5, True), (11, 3, False), (10, 1, False), (10, 10, False), (7, 9, False), (20, 7, True), (21, 6, True), (5, 4, False), (16, 3, True), (14, 5, False), (14, 3, False), (8, 7, False), (6, 7, False), (10, 2, False), (19, 1, False), (18, 7, True), (20, 2, False), (19, 9, False), (8, 9, False), (6, 1, False), (8, 3, False), (18, 9, False), (12, 2, True), (17, 6, False), (5, 10, False), (21, 1, True), (7, 6, False), (11, 7, False), (19, 4, True), (21, 9, True), (5, 2, False), (19, 2, False), (12, 1, False), (7, 4, False), (18, 1, False), (15, 5, True), (16, 3, False), (7, 8, False), (20, 5, True), (18, 3, True), (4, 10, False), (16, 2, False), (14, 9, True), (21, 7, True), (15, 4, True), (10, 4, False), (20, 3, True), (7, 2, False), (11, 5, False), (9, 1, False), (6, 10, False), (13, 3, True), (12, 3, True), (17, 7, True), (7, 1, False), (4, 2, False), (17, 2, True), (18, 5, False), (12, 9, False), (11, 4, False), (18, 2, True), (8, 10, False), (19, 7, False), (15, 5, False), (18, 8, False), (14, 8, False), (9, 4, False), (13, 10, True), (17, 2, False), (8, 1, False), (12, 8, True), (15, 8, True), (16, 7, True), (10, 8, False), (11, 2, False), (18, 4, True), (6, 8, False), (5, 6, False), (6, 4, False), (14, 6, True), (13, 2, True), (5, 3, False), (12, 9, True), (8, 4, False), (21, 4, True), (17, 4, True), (8, 6, False), (15, 7, True), (20, 4, True), (21, 2, True), (5, 5, False), (14, 5, True), (9, 2, False), (6, 6, False), (12, 6, True), (19, 3, False), (15, 7, False), (14, 7, True), (10, 6, False), (5, 9, False), (5, 7, False), (17, 3, True), (19, 9, True), (17, 9, True), (16, 8, True), (14, 3, True), (17, 5, True), (19, 8, True), (9, 8, False), (20, 2, True), (17, 8, True), (6, 5, False), (19, 5, True), (19, 2, True), (13, 8, True), (5, 8, False), (12, 1, True), (20, 8, True), (13, 5, True), (16, 1, True), (6, 3, False), (19, 6, True), (15, 9, True), (6, 2, False), (17, 6, True), (16, 4, True), (4, 4, False), (4, 5, False), (12, 5, True), (13, 9, True), (19, 1, True), (4, 3, False), (15, 3, True), (4, 1, False), (15, 2, True), (5, 1, False), (18, 1, True), (4, 8, False), (4, 6, False), (12, 4, True), (12, 7, True)]\n",
      "---------- Q-Table ------------\n",
      "\t\t 0\t1\n",
      "-------------------------------\n",
      "(14, 9, False)\t|-0.539\t|-0.461\n",
      "(11, 8, False)\t|-0.506\t|0.000\n",
      "(11, 10, False)\t|-0.565\t|0.000\n",
      "(20, 9, True)\t|0.742\t|0.000\n",
      "(18, 4, False)\t|0.176\t|-0.768\n",
      "(20, 8, False)\t|0.794\t|-0.921\n",
      "(14, 10, False)\t|-0.577\t|-0.462\n",
      "(12, 4, False)\t|-0.208\t|-0.303\n",
      "(20, 10, False)\t|0.431\t|-0.924\n",
      "(15, 3, False)\t|-0.267\t|-0.542\n",
      "(20, 9, False)\t|0.750\t|-0.922\n",
      "(10, 5, False)\t|-0.176\t|0.000\n",
      "(21, 3, True)\t|0.889\t|0.000\n",
      "(17, 3, False)\t|-0.121\t|-0.693\n",
      "(18, 10, False)\t|-0.239\t|-0.769\n",
      "(12, 8, False)\t|-0.513\t|-0.308\n",
      "(14, 4, False)\t|-0.206\t|-0.459\n",
      "(21, 8, True)\t|0.930\t|0.000\n",
      "(17, 10, True)\t|-0.452\t|0.000\n",
      "(12, 10, False)\t|-0.578\t|-0.307\n",
      "(13, 4, False)\t|-0.204\t|-0.388\n",
      "(17, 7, False)\t|-0.105\t|-0.692\n",
      "(16, 7, False)\t|-0.470\t|-0.616\n",
      "(15, 4, False)\t|-0.211\t|-0.537\n",
      "(19, 4, False)\t|0.418\t|-0.848\n",
      "(17, 9, False)\t|-0.428\t|-0.696\n",
      "(15, 10, True)\t|-0.568\t|0.000\n",
      "(17, 5, False)\t|-0.041\t|-0.694\n",
      "(13, 7, False)\t|-0.477\t|-0.384\n",
      "(12, 2, False)\t|-0.290\t|-0.309\n",
      "(18, 2, False)\t|0.128\t|-0.768\n",
      "(19, 8, False)\t|0.591\t|-0.847\n",
      "(15, 10, False)\t|-0.574\t|-0.537\n",
      "(9, 6, False)\t|-0.151\t|0.000\n",
      "(17, 10, False)\t|-0.468\t|-0.693\n",
      "(12, 7, False)\t|-0.480\t|-0.301\n",
      "(16, 10, False)\t|-0.576\t|-0.616\n",
      "(13, 3, False)\t|-0.248\t|-0.380\n",
      "(7, 5, False)\t|-0.166\t|0.000\n",
      "(21, 10, True)\t|0.888\t|0.000\n",
      "(12, 10, True)\t|-0.582\t|0.000\n",
      "(4, 9, False)\t|-0.539\t|0.000\n",
      "(14, 4, True)\t|-0.231\t|0.000\n",
      "(13, 1, True)\t|-0.748\t|0.000\n",
      "(13, 10, False)\t|-0.571\t|-0.387\n",
      "(18, 6, False)\t|0.277\t|-0.765\n",
      "(13, 5, False)\t|-0.166\t|-0.387\n",
      "(18, 3, False)\t|0.138\t|-0.764\n",
      "(16, 5, True)\t|-0.165\t|0.000\n",
      "(10, 7, False)\t|-0.474\t|0.000\n",
      "(18, 10, True)\t|-0.242\t|0.000\n",
      "(14, 6, False)\t|-0.149\t|-0.468\n",
      "(18, 8, True)\t|0.126\t|0.000\n",
      "(14, 1, False)\t|-0.769\t|-0.458\n",
      "(14, 8, True)\t|-0.499\t|0.000\n",
      "(20, 6, False)\t|0.699\t|-0.924\n",
      "(15, 1, False)\t|-0.768\t|-0.537\n",
      "(16, 2, True)\t|-0.285\t|0.000\n",
      "(19, 5, False)\t|0.439\t|-0.849\n",
      "(12, 5, False)\t|-0.170\t|-0.312\n",
      "(19, 10, False)\t|-0.020\t|-0.845\n",
      "(18, 7, False)\t|0.402\t|-0.770\n",
      "(16, 8, False)\t|-0.522\t|-0.615\n",
      "(13, 7, True)\t|-0.491\t|0.000\n",
      "(11, 1, False)\t|-0.768\t|0.000\n",
      "(17, 1, True)\t|-0.635\t|0.000\n",
      "(17, 4, False)\t|-0.087\t|-0.700\n",
      "(15, 6, True)\t|-0.134\t|0.000\n",
      "(11, 6, False)\t|-0.145\t|0.000\n",
      "(15, 8, False)\t|-0.517\t|-0.539\n",
      "(17, 8, False)\t|-0.380\t|-0.696\n",
      "(18, 6, True)\t|0.301\t|0.000\n",
      "(15, 6, False)\t|-0.155\t|-0.537\n",
      "(16, 9, True)\t|-0.525\t|0.000\n",
      "(16, 6, False)\t|-0.153\t|-0.611\n",
      "(13, 9, False)\t|-0.547\t|-0.384\n",
      "(10, 9, False)\t|-0.532\t|0.000\n",
      "(17, 1, False)\t|-0.646\t|-0.694\n",
      "(7, 3, False)\t|-0.239\t|0.000\n",
      "(13, 2, False)\t|-0.303\t|-0.383\n",
      "(9, 10, False)\t|-0.584\t|0.000\n",
      "(20, 1, True)\t|0.150\t|0.000\n",
      "(9, 7, False)\t|-0.476\t|0.000\n",
      "(16, 9, False)\t|-0.558\t|-0.615\n",
      "(12, 3, False)\t|-0.259\t|-0.306\n",
      "(21, 5, True)\t|0.892\t|0.000\n",
      "(20, 4, False)\t|0.657\t|-0.923\n",
      "(20, 7, False)\t|0.772\t|-0.922\n",
      "(16, 4, False)\t|-0.220\t|-0.619\n",
      "(7, 10, False)\t|-0.567\t|0.000\n",
      "(19, 3, True)\t|0.436\t|0.000\n",
      "(20, 5, False)\t|0.670\t|-0.923\n",
      "(16, 1, False)\t|-0.772\t|-0.615\n",
      "(19, 7, True)\t|0.626\t|0.000\n",
      "(20, 3, False)\t|0.641\t|-0.926\n",
      "(20, 6, True)\t|0.700\t|0.000\n",
      "(13, 4, True)\t|-0.182\t|0.000\n",
      "(9, 5, False)\t|-0.162\t|0.000\n",
      "(13, 6, False)\t|-0.163\t|-0.389\n",
      "(12, 6, False)\t|-0.139\t|-0.309\n",
      "(13, 1, False)\t|-0.774\t|-0.383\n",
      "(14, 7, False)\t|-0.477\t|-0.457\n",
      "(14, 2, False)\t|-0.297\t|-0.461\n",
      "(16, 5, False)\t|-0.161\t|-0.617\n",
      "(7, 7, False)\t|-0.474\t|0.000\n",
      "(8, 8, False)\t|-0.529\t|0.000\n",
      "(6, 9, False)\t|-0.563\t|0.000\n",
      "(14, 2, True)\t|-0.298\t|0.000\n",
      "(8, 5, False)\t|-0.175\t|0.000\n",
      "(13, 6, True)\t|-0.169\t|0.000\n",
      "(15, 9, False)\t|-0.542\t|-0.543\n",
      "(19, 6, False)\t|0.498\t|-0.845\n",
      "(16, 6, True)\t|-0.121\t|0.000\n",
      "(19, 10, True)\t|-0.023\t|0.000\n",
      "(10, 3, False)\t|-0.264\t|0.000\n",
      "(13, 8, False)\t|-0.508\t|-0.382\n",
      "(18, 9, True)\t|-0.183\t|0.000\n",
      "(20, 10, True)\t|0.432\t|0.000\n",
      "(8, 2, False)\t|-0.298\t|0.000\n",
      "(9, 9, False)\t|-0.550\t|0.000\n",
      "(14, 1, True)\t|-0.749\t|0.000\n",
      "(11, 9, False)\t|-0.556\t|0.000\n",
      "(15, 2, False)\t|-0.299\t|-0.534\n",
      "(9, 3, False)\t|-0.271\t|0.000\n",
      "(16, 10, True)\t|-0.581\t|0.000\n",
      "(20, 1, False)\t|0.143\t|-0.921\n",
      "(15, 1, True)\t|-0.784\t|0.000\n",
      "(14, 10, True)\t|-0.569\t|0.000\n",
      "(4, 7, False)\t|-0.496\t|0.000\n",
      "(18, 5, True)\t|0.211\t|0.000\n",
      "(11, 3, False)\t|-0.244\t|0.000\n",
      "(10, 1, False)\t|-0.765\t|0.000\n",
      "(10, 10, False)\t|-0.575\t|0.000\n",
      "(7, 9, False)\t|-0.564\t|0.000\n",
      "(20, 7, True)\t|0.771\t|0.000\n",
      "(21, 6, True)\t|0.902\t|0.000\n",
      "(5, 4, False)\t|-0.202\t|0.000\n",
      "(16, 3, True)\t|-0.256\t|0.000\n",
      "(14, 5, False)\t|-0.169\t|-0.462\n",
      "(14, 3, False)\t|-0.246\t|-0.457\n",
      "(8, 7, False)\t|-0.481\t|0.000\n",
      "(6, 7, False)\t|-0.492\t|0.000\n",
      "(10, 2, False)\t|-0.262\t|0.000\n",
      "(19, 1, False)\t|-0.123\t|-0.848\n",
      "(18, 7, True)\t|0.411\t|0.000\n",
      "(20, 2, False)\t|0.642\t|-0.924\n",
      "(19, 9, False)\t|0.280\t|-0.849\n",
      "(8, 9, False)\t|-0.541\t|0.000\n",
      "(6, 1, False)\t|-0.761\t|0.000\n",
      "(8, 3, False)\t|-0.254\t|0.000\n",
      "(18, 9, False)\t|-0.183\t|-0.767\n",
      "(12, 2, True)\t|-0.317\t|0.000\n",
      "(17, 6, False)\t|0.009\t|-0.691\n",
      "(5, 10, False)\t|-0.576\t|0.000\n",
      "(21, 1, True)\t|0.628\t|0.000\n",
      "(7, 6, False)\t|-0.150\t|0.000\n",
      "(11, 7, False)\t|-0.467\t|0.000\n",
      "(19, 4, True)\t|0.419\t|0.000\n",
      "(21, 9, True)\t|0.940\t|0.000\n",
      "(5, 2, False)\t|-0.295\t|0.000\n",
      "(19, 2, False)\t|0.381\t|-0.851\n",
      "(12, 1, False)\t|-0.765\t|-0.308\n",
      "(7, 4, False)\t|-0.202\t|0.000\n",
      "(18, 1, False)\t|-0.375\t|-0.770\n",
      "(15, 5, True)\t|-0.188\t|0.000\n",
      "(16, 3, False)\t|-0.257\t|-0.616\n",
      "(7, 8, False)\t|-0.515\t|0.000\n",
      "(20, 5, True)\t|0.667\t|0.000\n",
      "(18, 3, True)\t|0.154\t|0.000\n",
      "(4, 10, False)\t|-0.553\t|0.000\n",
      "(16, 2, False)\t|-0.294\t|-0.616\n",
      "(14, 9, True)\t|-0.557\t|0.000\n",
      "(21, 7, True)\t|0.925\t|0.000\n",
      "(15, 4, True)\t|-0.200\t|0.000\n",
      "(10, 4, False)\t|-0.230\t|0.000\n",
      "(20, 3, True)\t|0.647\t|0.000\n",
      "(7, 2, False)\t|-0.290\t|0.000\n",
      "(11, 5, False)\t|-0.189\t|0.000\n",
      "(9, 1, False)\t|-0.775\t|0.000\n",
      "(6, 10, False)\t|-0.575\t|0.000\n",
      "(13, 3, True)\t|-0.265\t|0.000\n",
      "(12, 3, True)\t|-0.215\t|0.000\n",
      "(17, 7, True)\t|-0.109\t|0.000\n",
      "(7, 1, False)\t|-0.769\t|0.000\n",
      "(4, 2, False)\t|-0.305\t|0.000\n",
      "(17, 2, True)\t|-0.183\t|0.000\n",
      "(18, 5, False)\t|0.213\t|-0.767\n",
      "(12, 9, False)\t|-0.532\t|-0.313\n",
      "(11, 4, False)\t|-0.204\t|0.000\n",
      "(18, 2, True)\t|0.104\t|0.000\n",
      "(8, 10, False)\t|-0.571\t|0.000\n",
      "(19, 7, False)\t|0.624\t|-0.850\n",
      "(15, 5, False)\t|-0.155\t|-0.535\n",
      "(18, 8, False)\t|0.107\t|-0.765\n",
      "(14, 8, False)\t|-0.511\t|-0.460\n",
      "(9, 4, False)\t|-0.200\t|0.000\n",
      "(13, 10, True)\t|-0.577\t|0.000\n",
      "(17, 2, False)\t|-0.159\t|-0.694\n",
      "(8, 1, False)\t|-0.767\t|0.000\n",
      "(12, 8, True)\t|-0.559\t|0.000\n",
      "(15, 8, True)\t|-0.482\t|0.000\n",
      "(16, 7, True)\t|-0.478\t|0.000\n",
      "(10, 8, False)\t|-0.502\t|0.000\n",
      "(11, 2, False)\t|-0.292\t|0.000\n",
      "(18, 4, True)\t|0.151\t|0.000\n",
      "(6, 8, False)\t|-0.525\t|0.000\n",
      "(5, 6, False)\t|-0.167\t|0.000\n",
      "(6, 4, False)\t|-0.194\t|0.000\n",
      "(14, 6, True)\t|-0.158\t|0.000\n",
      "(13, 2, True)\t|-0.283\t|0.000\n",
      "(5, 3, False)\t|-0.214\t|0.000\n",
      "(12, 9, True)\t|-0.506\t|0.000\n",
      "(8, 4, False)\t|-0.224\t|0.000\n",
      "(21, 4, True)\t|0.892\t|0.000\n",
      "(17, 4, True)\t|-0.069\t|0.000\n",
      "(8, 6, False)\t|-0.164\t|0.000\n",
      "(15, 7, True)\t|-0.462\t|0.000\n",
      "(20, 4, True)\t|0.660\t|0.000\n",
      "(21, 2, True)\t|0.876\t|0.000\n",
      "(5, 5, False)\t|-0.173\t|0.000\n",
      "(14, 5, True)\t|-0.185\t|0.000\n",
      "(9, 2, False)\t|-0.290\t|0.000\n",
      "(6, 6, False)\t|-0.150\t|0.000\n",
      "(12, 6, True)\t|-0.155\t|0.000\n",
      "(19, 3, False)\t|0.411\t|-0.848\n",
      "(15, 7, False)\t|-0.474\t|-0.537\n",
      "(14, 7, True)\t|-0.490\t|0.000\n",
      "(10, 6, False)\t|-0.140\t|0.000\n",
      "(5, 9, False)\t|-0.519\t|0.000\n",
      "(5, 7, False)\t|-0.478\t|0.000\n",
      "(17, 3, True)\t|-0.106\t|0.000\n",
      "(19, 9, True)\t|0.282\t|0.000\n",
      "(17, 9, True)\t|-0.443\t|0.000\n",
      "(16, 8, True)\t|-0.511\t|0.000\n",
      "(14, 3, True)\t|-0.261\t|0.000\n",
      "(17, 5, True)\t|-0.066\t|0.000\n",
      "(19, 8, True)\t|0.578\t|0.000\n",
      "(9, 8, False)\t|-0.500\t|0.000\n",
      "(20, 2, True)\t|0.638\t|0.000\n",
      "(17, 8, True)\t|-0.398\t|0.000\n",
      "(6, 5, False)\t|-0.159\t|0.000\n",
      "(19, 5, True)\t|0.443\t|0.000\n",
      "(19, 2, True)\t|0.403\t|0.000\n",
      "(13, 8, True)\t|-0.493\t|0.000\n",
      "(5, 8, False)\t|-0.512\t|0.000\n",
      "(12, 1, True)\t|-0.811\t|0.000\n",
      "(20, 8, True)\t|0.796\t|0.000\n",
      "(13, 5, True)\t|-0.171\t|0.000\n",
      "(16, 1, True)\t|-0.784\t|0.000\n",
      "(6, 3, False)\t|-0.258\t|0.000\n",
      "(19, 6, True)\t|0.498\t|0.000\n",
      "(15, 9, True)\t|-0.532\t|0.000\n",
      "(6, 2, False)\t|-0.301\t|0.000\n",
      "(17, 6, True)\t|0.000\t|0.000\n",
      "(16, 4, True)\t|-0.205\t|0.000\n",
      "(4, 4, False)\t|-0.162\t|0.000\n",
      "(4, 5, False)\t|-0.154\t|0.000\n",
      "(12, 5, True)\t|-0.125\t|0.000\n",
      "(13, 9, True)\t|-0.557\t|0.000\n",
      "(19, 1, True)\t|-0.102\t|0.000\n",
      "(4, 3, False)\t|-0.253\t|0.000\n",
      "(15, 3, True)\t|-0.260\t|0.000\n",
      "(4, 1, False)\t|-0.800\t|0.000\n",
      "(15, 2, True)\t|-0.266\t|0.000\n",
      "(5, 1, False)\t|-0.761\t|0.000\n",
      "(18, 1, True)\t|-0.394\t|0.000\n",
      "(4, 8, False)\t|-0.531\t|0.000\n",
      "(4, 6, False)\t|-0.155\t|0.000\n",
      "(12, 4, True)\t|-0.243\t|0.000\n",
      "(12, 7, True)\t|-0.480\t|0.000\n",
      "Nota: Los valores estan truncados a tres dígitos para visualización\n"
     ]
    }
   ],
   "source": [
    "print_Q(Q) "
   ]
  },
  {
   "cell_type": "markdown",
   "metadata": {
    "colab_type": "text",
    "id": "CcAXZ5HWTFd7"
   },
   "source": [
    "#### Testeamos los aprendido jugando un par de partidas"
   ]
  },
  {
   "cell_type": "code",
   "execution_count": 0,
   "metadata": {
    "colab": {
     "base_uri": "https://localhost:8080/",
     "height": 179
    },
    "colab_type": "code",
    "id": "8miTCFteGbc5",
    "outputId": "6f66813b-fc48-4188-a36a-8203980b62e0"
   },
   "outputs": [
    {
     "name": "stdout",
     "output_type": "stream",
     "text": [
      "Estado al Inicio: (13, 7, True)\n",
      "Jugador sacó: 13 con As usable, Dealer sacó: 7 \n",
      "Elije la acción: 1 - SIGUE\n",
      "Jugador sacó: 13 sin As usable\n",
      "Elije la acción: 1 - SIGUE\n",
      "Jugador sacó: 18 sin As usable\n",
      "Elije la acción: 0 - SE PLANTA\n",
      "Terminó el juego.\n",
      "El jugador GANO\n"
     ]
    }
   ],
   "source": [
    "# Arranca de nuevo, resetea el entorno\n",
    "state = env.reset()\n",
    "    \n",
    "print(\"Estado al Inicio:\", state)\n",
    "\n",
    "withUsableAs = \"con As usable\" if state[2] else \"sin As usable\"\n",
    "print(f\"Jugador sacó: {state[0]} {withUsableAs}, Dealer sacó: {state[1]} \")\n",
    "   \n",
    "\n",
    "while(True):\n",
    "    \n",
    "  \n",
    "    # Elije una acción, la de máximo retorno estimado en la Q-table ~ 1 linea\n",
    "    action = np.argmax(Q[state])\n",
    "        \n",
    "    # Toma una acción\n",
    "    next_state, reward, done, _ = env.step(action)\n",
    "    \n",
    "    print(f\"Elije la acción: {action} - {action_name[action]}\")\n",
    "        \n",
    "    state = next_state\n",
    "    \n",
    "    if action:\n",
    "      withUsableAs = \"con As usable\" if state[2] else \"sin As usable\"\n",
    "      print(f\"Jugador sacó: {state[0]} {withUsableAs}\")\n",
    "    \n",
    "    if done:\n",
    "        result = \"GANO\" if reward > 0 else (\"PERDIÓ\" if reward == 0 else \"EMPATÓ\")\n",
    "        print(\"Terminó el juego.\")\n",
    "        print(f\"El jugador {result}\")\n",
    "        break\n"
   ]
  },
  {
   "cell_type": "markdown",
   "metadata": {
    "colab_type": "text",
    "id": "ILLyCK5mTPyw"
   },
   "source": [
    " #### Vemos que tan bueno es el algoritmo"
   ]
  },
  {
   "cell_type": "code",
   "execution_count": 0,
   "metadata": {
    "colab": {
     "base_uri": "https://localhost:8080/",
     "height": 1035
    },
    "colab_type": "code",
    "id": "JaSyzPbfGbfg",
    "outputId": "0ffccc5c-9ede-458c-8bbe-a11e242fa7b7"
   },
   "outputs": [
    {
     "data": {
      "image/png": "[encoded data removed]",
      "text/plain": [
       "<Figure size 504x504 with 2 Axes>"
      ]
     },
     "metadata": {
      "tags": []
     },
     "output_type": "display_data"
    },
    {
     "data": {
      "image/png": "[encoded data removed]",
      "text/plain": [
       "<Figure size 504x504 with 2 Axes>"
      ]
     },
     "metadata": {
      "tags": []
     },
     "output_type": "display_data"
    }
   ],
   "source": [
    "import matplotlib\n",
    "import matplotlib.pyplot as plt\n",
    "import numpy as np\n",
    "from matplotlib.colors import ListedColormap\n",
    "\n",
    "def _get_policy_array(Q, usable_ace):\n",
    "    \n",
    "    data = np.zeros( (22,10) )\n",
    "            \n",
    "    for q in Q:\n",
    "\n",
    "        target_action = np.argmax(Q[q])\n",
    "\n",
    "        if q[0] in range(1,22) and q[2] == usable_ace:\n",
    "            data[q[0]][q[1]-1] = target_action+1\n",
    "        \n",
    "    return data\n",
    "\n",
    "def _plot_policy_array(policy_arr, title):\n",
    "    cMap = ListedColormap(['lightgray',  'red', 'green'])\n",
    "    fig, ax = plt.subplots(figsize=(7, 7))\n",
    "    im = ax.imshow(policy_arr,  cmap=cMap)\n",
    "    plt.style.use('ggplot')\n",
    "    \n",
    "    ax.set_xticks(np.arange(10)-0.5)\n",
    "    ax.set_yticks(np.arange(22)-0.5)\n",
    "    \n",
    "    ax.set_xticklabels(np.arange(10)+1)\n",
    "    ax.set_yticklabels(np.arange(22))\n",
    "    ax.set_xlabel(\"Carta del dealer\")\n",
    "    ax.set_ylabel(\"Suma del Jugador\")\n",
    "    \n",
    "    ax.grid(which=\"minor\", color=\"w\", linestyle='-', linewidth=3)\n",
    "    fig.tight_layout()\n",
    "    plt.title(title)\n",
    "    \n",
    "    cbar = plt.colorbar(im,pad=0.1)\n",
    "    cbar.ax.get_yaxis().set_ticks([])\n",
    "    for j, lab in enumerate(['INDEFINIDO','SE PLANTA','SIGUE']):\n",
    "        cbar.ax.text(5, (5 * j + 1) / 6.0, lab, ha='left', va='top')\n",
    "    cbar.ax.get_yaxis().labelpad = -30\n",
    "    cbar.ax.set_ylabel('Acción', rotation=270)\n",
    "\n",
    "\n",
    "    plt.show()\n",
    "    \n",
    "    \n",
    "\n",
    "def Q_plot(Q, usable_ace):\n",
    "    title = \"Usando el As como 11\" if usable_ace else \"No usando el As como 11\"\n",
    "    policy_arr = _get_policy_array(Q,usable_ace)\n",
    "    _plot_policy_array(policy_arr, title)  \n",
    "    \n",
    "%matplotlib inline\n",
    "        \n",
    "Q_plot(Q,True)\n",
    "\n",
    "Q_plot(Q,False)"
   ]
  },
  {
   "cell_type": "code",
   "execution_count": 0,
   "metadata": {
    "colab": {},
    "colab_type": "code",
    "id": "BugjqQMLl76c"
   },
   "outputs": [],
   "source": []
  }
 ],
 "metadata": {
  "colab": {
   "collapsed_sections": [],
   "include_colab_link": true,
   "name": "AI - Aprendizaje por Refuerzos - Monte Carlo - Blackjack.ipynb",
   "provenance": [],
   "version": "0.3.2"
  },
  "kernelspec": {
   "display_name": "Python 3",
   "language": "python",
   "name": "python3"
  },
  "language_info": {
   "codemirror_mode": {
    "name": "ipython",
    "version": 3
   },
   "file_extension": ".py",
   "mimetype": "text/x-python",
   "name": "python",
   "nbconvert_exporter": "python",
   "pygments_lexer": "ipython3",
   "version": "3.8.5"
  }
 },
 "nbformat": 4,
 "nbformat_minor": 1
}
